{
 "cells": [
  {
   "cell_type": "markdown",
   "metadata": {},
   "source": [
    "<h1 style=\"text-align: center\">Experiment 1</h1>"
   ]
  },
  {
   "cell_type": "markdown",
   "metadata": {},
   "source": [
    "---"
   ]
  },
  {
   "cell_type": "code",
   "execution_count": 16,
   "metadata": {
    "colab": {
     "base_uri": "https://localhost:8080/"
    },
    "executionInfo": {
     "elapsed": 518,
     "status": "ok",
     "timestamp": 1723652194515,
     "user": {
      "displayName": "Chiku",
      "userId": "00734284376877800923"
     },
     "user_tz": -330
    },
    "id": "xvHeJnZGhS2R",
    "outputId": "093726b7-1c7f-45c0-e0de-2f71627d147f"
   },
   "outputs": [
    {
     "name": "stdout",
     "output_type": "stream",
     "text": [
      "Name: John\n",
      "Age: 30\n"
     ]
    }
   ],
   "source": [
    "name = \"John\"\n",
    "age = 30\n",
    "print(\"Name:\", name)\n",
    "print(\"Age:\", age)\n"
   ]
  },
  {
   "cell_type": "code",
   "execution_count": null,
   "metadata": {
    "id": "eBCTAYmnfkB4"
   },
   "outputs": [],
   "source": [
    "x = [\"chiku\", \"mango\"]\n",
    "print(\"mango\" in x)\n",
    "\n",
    "x = [\"chiku\", \"mango\"\n",
    "print(\"grapes\" not in x)\n"
   ]
  },
  {
   "cell_type": "code",
   "execution_count": 1,
   "metadata": {
    "colab": {
     "base_uri": "https://localhost:8080/"
    },
    "executionInfo": {
     "elapsed": 56246,
     "status": "ok",
     "timestamp": 1723649631320,
     "user": {
      "displayName": "Chiku",
      "userId": "00734284376877800923"
     },
     "user_tz": -330
    },
    "id": "EHwZ2WE6gIce",
    "outputId": "020e08af-b925-49f3-be87-eaf1a80044ae"
   },
   "outputs": [
    {
     "name": "stdout",
     "output_type": "stream",
     "text": [
      "Enter two values: 40 50\n",
      "Number of boys:  40\n",
      "Number of girls:  50\n"
     ]
    }
   ],
   "source": [
    "# taking two inputs at a time\n",
    "x, y = input(\"Enter two values: \").split()\n",
    "print(\"Number of boys: \", x)\n",
    "print(\"Number of girls: \", y)\n"
   ]
  },
  {
   "cell_type": "code",
   "execution_count": null,
   "metadata": {
    "id": "NgBfCm5wgjtL"
   },
   "outputs": [],
   "source": [
    "# taking two input at a time\n",
    "x, y = [int(x) for x in input(\"Enter two values: \").split()]\n",
    "print(\"First Number is: \", x)\n",
    "print(\"Second Number is: \", y)\n"
   ]
  },
  {
   "cell_type": "code",
   "execution_count": 16,
   "metadata": {
    "colab": {
     "base_uri": "https://localhost:8080/"
    },
    "executionInfo": {
     "elapsed": 518,
     "status": "ok",
     "timestamp": 1723652194515,
     "user": {
      "displayName": "Chiku",
      "userId": "00734284376877800923"
     },
     "user_tz": -330
    },
    "id": "xvHeJnZGhS2R",
    "outputId": "093726b7-1c7f-45c0-e0de-2f71627d147f"
   },
   "outputs": [
    {
     "name": "stdout",
     "output_type": "stream",
     "text": [
      "Name: John\n",
      "Age: 30\n"
     ]
    }
   ],
   "source": [
    "name = \"John\"\n",
    "age = 30\n",
    "print(\"Name:\", name)\n",
    "print(\"Age:\", age)\n"
   ]
  },
  {
   "cell_type": "markdown",
   "metadata": {
    "id": "5XViHJzjkbEw"
   },
   "source": [
    "\n",
    "\n",
    "---\n",
    "\n",
    "\n"
   ]
  },
  {
   "cell_type": "markdown",
   "metadata": {
    "id": "Qa6byhXElg8-"
   },
   "source": [
    "\n",
    "**WAP to find square root of a number**"
   ]
  },
  {
   "cell_type": "code",
   "execution_count": 6,
   "metadata": {
    "colab": {
     "base_uri": "https://localhost:8080/"
    },
    "executionInfo": {
     "elapsed": 6424,
     "status": "ok",
     "timestamp": 1723649987092,
     "user": {
      "displayName": "Chiku",
      "userId": "00734284376877800923"
     },
     "user_tz": -330
    },
    "id": "0q5kUcRplX2O",
    "outputId": "c4449b9f-6333-412b-f2a7-36db96245487"
   },
   "outputs": [
    {
     "name": "stdout",
     "output_type": "stream",
     "text": [
      "Enter a number : 10000\n",
      "Square root of the number is :  100.0\n"
     ]
    }
   ],
   "source": [
    "import math\n",
    "\n",
    "n=int(input(\"Enter a number : \"))\n",
    "\n",
    "print(\"Square root of the number is : \",math.sqrt(n))"
   ]
  },
  {
   "cell_type": "code",
   "execution_count": 7,
   "metadata": {
    "colab": {
     "base_uri": "https://localhost:8080/"
    },
    "executionInfo": {
     "elapsed": 4183,
     "status": "ok",
     "timestamp": 1723650600668,
     "user": {
      "displayName": "Chiku",
      "userId": "00734284376877800923"
     },
     "user_tz": -330
    },
    "id": "umafwi_xiXC7",
    "outputId": "ad23b333-6ba2-4bd0-b300-9871fca5c0b9"
   },
   "outputs": [
    {
     "name": "stdout",
     "output_type": "stream",
     "text": [
      "Enter a number : 64\n",
      "Square root of the number is :  8.0\n"
     ]
    }
   ],
   "source": [
    "n=int(input(\"Enter a number : \"))\n",
    "\n",
    "print(\"Square root of the number is : \",n**(0.5))"
   ]
  },
  {
   "cell_type": "markdown",
   "metadata": {
    "id": "y2AyRkollibF"
   },
   "source": [
    "\n",
    "\n",
    "---\n",
    "\n"
   ]
  },
  {
   "cell_type": "markdown",
   "metadata": {
    "id": "kcTc0Lq7ljrW"
   },
   "source": [
    "**WAP to find  area of rectangle, circle, triangle**"
   ]
  },
  {
   "cell_type": "code",
   "execution_count": 9,
   "metadata": {
    "colab": {
     "base_uri": "https://localhost:8080/"
    },
    "executionInfo": {
     "elapsed": 24452,
     "status": "ok",
     "timestamp": 1723651041065,
     "user": {
      "displayName": "Chiku",
      "userId": "00734284376877800923"
     },
     "user_tz": -330
    },
    "id": "LLXI-cdIlq_I",
    "outputId": "98b06f9c-6f00-410b-c25c-359a6a4df052"
   },
   "outputs": [
    {
     "name": "stdout",
     "output_type": "stream",
     "text": [
      "\n",
      "---- Area of Rectangle ----\n",
      "Enter the length : 50\n",
      "Enter the breadth : 20\n",
      "Area of rectangle =  1000\n",
      "\n",
      "---- Area of Circle ----\n",
      "Enter the radius : 100\n",
      "Area of circle =  31400.0\n",
      "\n",
      "---- Area of Triangle ----\n",
      "Enter the height : 100\n",
      "Enter the base length : 10\n",
      "Area of triangle =  500.0\n"
     ]
    }
   ],
   "source": [
    "# Area of rectangle\n",
    "print(\"\\n---- Area of Rectangle ----\")\n",
    "l=int(input(\"Enter the length : \"))\n",
    "b=int(input(\"Enter the breadth : \"))\n",
    "print(\"Area of rectangle = \",l*b)\n",
    "\n",
    "# Area of circle\n",
    "print(\"\\n---- Area of Circle ----\")\n",
    "r=int(input(\"Enter the radius : \"))\n",
    "print(\"Area of circle = \",3.14*r*r)\n",
    "\n",
    "# Area of triangle\n",
    "print(\"\\n---- Area of Triangle ----\")\n",
    "h=int(input(\"Enter the height : \"))\n",
    "a=int(input(\"Enter the base length : \"))\n",
    "print(\"Area of triangle = \",0.5*h*a)"
   ]
  },
  {
   "cell_type": "markdown",
   "metadata": {
    "id": "0uyo48Z1lpX-"
   },
   "source": [
    "\n",
    "\n",
    "---\n",
    "\n"
   ]
  },
  {
   "cell_type": "markdown",
   "metadata": {
    "id": "2Qd1vfCJlsJe"
   },
   "source": [
    "**Q. Write a python program display an employee information like Emp_ID, Name, mail_Id, Mobile No, height, weight and gender, salary**"
   ]
  },
  {
   "cell_type": "code",
   "execution_count": 14,
   "metadata": {
    "colab": {
     "base_uri": "https://localhost:8080/"
    },
    "executionInfo": {
     "elapsed": 51354,
     "status": "ok",
     "timestamp": 1723652058416,
     "user": {
      "displayName": "Chiku",
      "userId": "00734284376877800923"
     },
     "user_tz": -330
    },
    "id": "K5j6x6iel6s-",
    "outputId": "c47e3269-da56-4630-9457-626222f1b768"
   },
   "outputs": [
    {
     "name": "stdout",
     "output_type": "stream",
     "text": [
      "Enter your Employee ID : 60018230034\n",
      "Enter your Name : Chaitanya\n",
      "Enter your valid email id : sendittochaitanya@gmail.com\n",
      "Enter your valid mobile number : 8356881366\n",
      "Enter your height (in cm) : 180\n",
      "Enter your weight (in kg) : 55\n",
      "Enter your gender : Male\n",
      "Enter your salary amount (in Rs.) : 6000000\n",
      "\n",
      "---- Employee Details ----\n",
      "\n",
      "Name -  Chaitanya \n",
      "ID -  60018230034 \n",
      "Mail id -  sendittochaitanya@gmail.com \n",
      "Mobile no. -  8356881366 \n",
      "Gender -  Male \n",
      "Height -  180.0 \n",
      "Weight -  55.0 \n",
      "Salary -  6000000\n"
     ]
    }
   ],
   "source": [
    "emp_id=int(input('Enter your Employee ID : '))\n",
    "name=str(input('Enter your Name : '))\n",
    "mail_id=str(input('Enter your valid email id : '))\n",
    "mobile_no=int(input('Enter your valid mobile number : '))\n",
    "height=float(input('Enter your height (in cm) : '))\n",
    "weight=float(input('Enter your weight (in kg) : '))\n",
    "gender=str(input('Enter your gender : '))\n",
    "salary=int(input('Enter your salary amount (in Rs.) : '))\n",
    "\n",
    "print(\"\\n---- Employee Details ----\")\n",
    "print(\"\\nName - \",name,\"\\nID - \",emp_id,\"\\nMail id - \",mail_id,\"\\nMobile no. - \",mobile_no,\"\\nGender - \",gender,\"\\nHeight - \",height,\"\\nWeight - \",weight,\"\\nSalary - \",salary)"
   ]
  }
 ],
 "metadata": {
  "colab": {
   "authorship_tag": "ABX9TyNfe4LvgvuvoKTJ9jwsUROi",
   "provenance": []
  },
  "kernelspec": {
   "display_name": "Python 3",
   "language": "python",
   "name": "python3"
  },
  "language_info": {
   "codemirror_mode": {
    "name": "ipython",
    "version": 3
   },
   "file_extension": ".py",
   "mimetype": "text/x-python",
   "name": "python",
   "nbconvert_exporter": "python",
   "pygments_lexer": "ipython3",
   "version": "3.7.4"
  }
 },
 "nbformat": 4,
 "nbformat_minor": 1
}
