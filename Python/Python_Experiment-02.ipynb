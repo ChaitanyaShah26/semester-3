{
 "cells": [
  {
   "cell_type": "markdown",
   "metadata": {},
   "source": [
    "<h1 style=\"text-align: center\">Experiment 2</h1>"
   ]
  },
  {
   "cell_type": "markdown",
   "metadata": {},
   "source": [
    "---"
   ]
  },
  {
   "cell_type": "code",
   "execution_count": null,
   "metadata": {
    "colab": {
     "base_uri": "https://localhost:8080/"
    },
    "executionInfo": {
     "elapsed": 453,
     "status": "ok",
     "timestamp": 1724217656684,
     "user": {
      "displayName": "Chiku",
      "userId": "00734284376877800923"
     },
     "user_tz": -330
    },
    "id": "k64pJ8EVTpDN",
    "outputId": "519f3acf-be7d-46cb-cd34-acc649cfffec"
   },
   "outputs": [
    {
     "name": "stdout",
     "output_type": "stream",
     "text": [
      "Blank List: \n",
      "[]\n",
      "\n",
      "List of numbers: \n",
      "[10, 20, 14]\n",
      "\n",
      "List Items: \n",
      "Geeks\n",
      "Geeks\n"
     ]
    }
   ],
   "source": [
    "# Python program to demonstrate\n",
    "# Creation of List\n",
    "\n",
    "# Creating a List\n",
    "List = []\n",
    "print(\"Blank List: \")\n",
    "print(List)\n",
    "\n",
    "# Creating a List of numbers\n",
    "List = [10, 20, 14]\n",
    "print(\"\\nList of numbers: \")\n",
    "print(List)\n",
    "\n",
    "# Creating a List of strings and accessing\n",
    "# using index\n",
    "List = [\"Geeks\", \"For\", \"Geeks\"]\n",
    "print(\"\\nList Items: \")\n",
    "print(List[0])\n",
    "print(List[2])\n"
   ]
  },
  {
   "cell_type": "code",
   "execution_count": null,
   "metadata": {
    "colab": {
     "base_uri": "https://localhost:8080/"
    },
    "executionInfo": {
     "elapsed": 437,
     "status": "ok",
     "timestamp": 1724217847972,
     "user": {
      "displayName": "Chiku",
      "userId": "00734284376877800923"
     },
     "user_tz": -330
    },
    "id": "S0rR774gYYDX",
    "outputId": "8bf3c75e-8bd0-4cc9-e1c8-8d31c09e05cd"
   },
   "outputs": [
    {
     "name": "stdout",
     "output_type": "stream",
     "text": [
      "\n",
      "List with the use of Numbers: \n",
      "[1, 2, 4, 4, 3, 3, 3, 6, 5]\n",
      "\n",
      "List with the use of Mixed Values: \n",
      "[1, 2, 'Name', 4, 'Chaitanya', 6, 'Shah']\n"
     ]
    }
   ],
   "source": [
    "# Creating a List with the use of Numbers (Having duplicate values)\n",
    "List = [1, 2, 4, 4, 3, 3, 3, 6, 5]\n",
    "print(\"\\nList with the use of Numbers: \")\n",
    "print(List)\n",
    " # Creating a List with  mixed type of values\n",
    "# (Having numbers and strings)\n",
    "List = [1, 2, 'Name', 4, 'Chaitanya', 6, 'Shah']\n",
    "print(\"\\nList with the use of Mixed Values: \")\n",
    "print(List)\n"
   ]
  },
  {
   "cell_type": "code",
   "execution_count": null,
   "metadata": {
    "colab": {
     "base_uri": "https://localhost:8080/"
    },
    "executionInfo": {
     "elapsed": 457,
     "status": "ok",
     "timestamp": 1724217961911,
     "user": {
      "displayName": "Chiku",
      "userId": "00734284376877800923"
     },
     "user_tz": -330
    },
    "id": "IamwIw4ZZHCs",
    "outputId": "d77bf14b-0aae-46d3-8d84-56fb4d4de281"
   },
   "outputs": [
    {
     "name": "stdout",
     "output_type": "stream",
     "text": [
      "Accessing a element from the list\n",
      "Hello\n",
      "World\n"
     ]
    }
   ],
   "source": [
    "# Python program to demonstrate # accessing of element from list\n",
    " # Creating a List with the use of multiple values\n",
    "List = [\"Hello\", \"World\"]\n",
    " # accessing a element from the list using index number\n",
    "print(\"Accessing a element from the list\")\n",
    "print(List[0])\n",
    "print(List[1])\n"
   ]
  },
  {
   "cell_type": "code",
   "execution_count": null,
   "metadata": {
    "colab": {
     "base_uri": "https://localhost:8080/"
    },
    "executionInfo": {
     "elapsed": 451,
     "status": "ok",
     "timestamp": 1724221741314,
     "user": {
      "displayName": "Chiku",
      "userId": "00734284376877800923"
     },
     "user_tz": -330
    },
    "id": "TyY-Ob7lZijq",
    "outputId": "202927bd-238c-4be9-b032-5459b596c17c"
   },
   "outputs": [
    {
     "name": "stdout",
     "output_type": "stream",
     "text": [
      "Accessing a element from a Multi-Dimensional list\n",
      "World\n",
      "Heyyy\n"
     ]
    }
   ],
   "source": [
    "# Creating a Multi-Dimensional List # (By Nesting a list inside a List)\n",
    "List = [['Hello', 'World'], ['Heyyy']]\n",
    " # accessing an element from the # Multi-Dimensional List using # index number\n",
    "print(\"Accessing a element from a Multi-Dimensional list\")\n",
    "print(List[0][1])\n",
    "print(List[1][0])\n"
   ]
  },
  {
   "cell_type": "code",
   "execution_count": null,
   "metadata": {
    "colab": {
     "base_uri": "https://localhost:8080/"
    },
    "executionInfo": {
     "elapsed": 423,
     "status": "ok",
     "timestamp": 1724221812519,
     "user": {
      "displayName": "Chiku",
      "userId": "00734284376877800923"
     },
     "user_tz": -330
    },
    "id": "UQ7T9-Wcn-CA",
    "outputId": "6c7ea6df-0706-44de-ff73-12d2f9b63776"
   },
   "outputs": [
    {
     "name": "stdout",
     "output_type": "stream",
     "text": [
      "Accessing element using negative indexing\n",
      "Geeks\n",
      "For\n"
     ]
    }
   ],
   "source": [
    "List = [1, 2, 'Geeks', 4, 'For', 6, 'Geeks']\n",
    " # accessing an element using negative indexing\n",
    "print(\"Accessing element using negative indexing\")\n",
    " # print the last element of list\n",
    "print(List[-1])\n",
    " # print the third last element of list\n",
    "print(List[-3])"
   ]
  },
  {
   "cell_type": "code",
   "execution_count": null,
   "metadata": {
    "colab": {
     "base_uri": "https://localhost:8080/"
    },
    "executionInfo": {
     "elapsed": 425,
     "status": "ok",
     "timestamp": 1724221873687,
     "user": {
      "displayName": "Chiku",
      "userId": "00734284376877800923"
     },
     "user_tz": -330
    },
    "id": "ifIYm6yaoc2H",
    "outputId": "d316002e-73b9-4215-a3e3-3f66f6736341"
   },
   "outputs": [
    {
     "name": "stdout",
     "output_type": "stream",
     "text": [
      "0\n",
      "3\n"
     ]
    }
   ],
   "source": [
    "# Creating a List\n",
    "List1 = []\n",
    "print(len(List1))\n",
    " # Creating a List of numbers\n",
    "List2 = [10, 20, 14]\n",
    "print(len(List2))"
   ]
  },
  {
   "cell_type": "code",
   "execution_count": null,
   "metadata": {
    "colab": {
     "base_uri": "https://localhost:8080/"
    },
    "executionInfo": {
     "elapsed": 446,
     "status": "ok",
     "timestamp": 1724222085873,
     "user": {
      "displayName": "Chiku",
      "userId": "00734284376877800923"
     },
     "user_tz": -330
    },
    "id": "OCi0WZVJpIx0",
    "outputId": "05f24099-98cf-4027-9afc-a2a8d9c344f6"
   },
   "outputs": [
    {
     "name": "stdout",
     "output_type": "stream",
     "text": [
      "Initial blank List: \n",
      "[]\n",
      "\n",
      "List after Addition of Three elements: \n",
      "[1, 2, 4]\n",
      "\n",
      "List after Addition of elements from 1-3: \n",
      "[1, 2, 4, 1, 2, 3]\n",
      "\n",
      "List after Addition of a Tuple: \n",
      "[1, 2, 4, 1, 2, 3, (5, 6)]\n",
      "\n",
      "List after Addition of a List: \n",
      "[1, 2, 4, 1, 2, 3, (5, 6), ['For', 'Geeks']]\n"
     ]
    }
   ],
   "source": [
    "# Creating a List\n",
    "List = []\n",
    "print(\"Initial blank List: \")\n",
    "print(List)\n",
    "\n",
    "# Addition of Elements in the List\n",
    "List.append(1)\n",
    "List.append(2)\n",
    "List.append(4)\n",
    "print(\"\\nList after Addition of Three elements: \")\n",
    "print(List)\n",
    "\n",
    "# Adding elements to the List using Iterator\n",
    "for i in range(1, 4):\n",
    "  List.append(i)\n",
    "print(\"\\nList after Addition of elements from 1-3: \")\n",
    "print(List)\n",
    "\n",
    "# Adding Tuples to the List\n",
    "List.append((5, 6))\n",
    "print(\"\\nList after Addition of a Tuple: \")\n",
    "print(List)\n",
    "\n",
    "# Addition of List to a List\n",
    "List2 = ['For', 'Geeks']\n",
    "List.append(List2)\n",
    "print(\"\\nList after Addition of a List: \")\n",
    "print(List)\n"
   ]
  },
  {
   "cell_type": "code",
   "execution_count": null,
   "metadata": {
    "colab": {
     "base_uri": "https://localhost:8080/"
    },
    "executionInfo": {
     "elapsed": 448,
     "status": "ok",
     "timestamp": 1724222147289,
     "user": {
      "displayName": "Chiku",
      "userId": "00734284376877800923"
     },
     "user_tz": -330
    },
    "id": "6rry8_2Wpfxq",
    "outputId": "b68e4df5-1576-4f0b-b8ba-c4ac68fb6c20"
   },
   "outputs": [
    {
     "name": "stdout",
     "output_type": "stream",
     "text": [
      "Initial List: \n",
      "[1, 2, 3, 4]\n",
      "\n",
      "List after performing Insert Operation: \n",
      "['Geeks', 1, 2, 3, 12, 4]\n"
     ]
    }
   ],
   "source": [
    "List = [1,2,3,4]\n",
    "print(\"Initial List: \")\n",
    "print(List)\n",
    "\n",
    "# Addition of Element at specific Position (using Insert Method)\n",
    "List.insert(3, 12)\n",
    "List.insert(0, 'Geeks')\n",
    "print(\"\\nList after performing Insert Operation: \")\n",
    "print(List)"
   ]
  },
  {
   "cell_type": "code",
   "execution_count": null,
   "metadata": {
    "colab": {
     "base_uri": "https://localhost:8080/"
    },
    "executionInfo": {
     "elapsed": 450,
     "status": "ok",
     "timestamp": 1724222236504,
     "user": {
      "displayName": "Chiku",
      "userId": "00734284376877800923"
     },
     "user_tz": -330
    },
    "id": "Hezslgcdp1wp",
    "outputId": "e25da9b6-5aee-4378-df05-b8b9b991daae"
   },
   "outputs": [
    {
     "name": "stdout",
     "output_type": "stream",
     "text": [
      "Initial List: \n",
      "[1, 2, 3, 4]\n",
      "\n",
      "List after performing Extend Operation: \n",
      "[1, 2, 3, 4, 8, 'Geeks', 'Always']\n"
     ]
    }
   ],
   "source": [
    "List = [1, 2, 3, 4]\n",
    "print(\"Initial List: \")\n",
    "print(List)\n",
    " # Addition of multiple elements to the List at the end (using Extend Method)\n",
    "List.extend([8, 'Geeks', 'Always'])\n",
    "print(\"\\nList after performing Extend Operation: \")\n",
    "print(List)\n"
   ]
  },
  {
   "cell_type": "code",
   "execution_count": null,
   "metadata": {
    "colab": {
     "base_uri": "https://localhost:8080/"
    },
    "executionInfo": {
     "elapsed": 445,
     "status": "ok",
     "timestamp": 1724222438721,
     "user": {
      "displayName": "Chiku",
      "userId": "00734284376877800923"
     },
     "user_tz": -330
    },
    "id": "k1DZ6IT0qnEX",
    "outputId": "0d5a77a4-1ce9-4b5a-94e3-7ce1cb385df2"
   },
   "outputs": [
    {
     "name": "stdout",
     "output_type": "stream",
     "text": [
      "\n",
      "Tuple with the use of String: \n",
      "('Geeks', 'For')\n",
      "\n",
      "Tuple using List: \n",
      "(1, 2, 4, 5, 6)\n",
      "\n",
      "Tuple with the use of function: \n",
      "('G', 'e', 'e', 'k', 's')\n"
     ]
    }
   ],
   "source": [
    "# Creating a Tuple\n",
    "# with the use of string\n",
    "Tuple1 = ('Geeks', 'For')\n",
    "print(\"\\nTuple with the use of String: \")\n",
    "print(Tuple1)\n",
    "\n",
    "# Creating a Tuple with\n",
    "# the use of list\n",
    "list1 = [1, 2, 4, 5, 6]\n",
    "print(\"\\nTuple using List: \")\n",
    "print(tuple(list1))\n",
    "\n",
    "# Creating a Tuple\n",
    "# with the use of built-in function\n",
    "Tuple1 = tuple('Geeks')\n",
    "print(\"\\nTuple with the use of function: \")\n",
    "print(Tuple1)\n"
   ]
  },
  {
   "cell_type": "code",
   "execution_count": null,
   "metadata": {
    "colab": {
     "base_uri": "https://localhost:8080/"
    },
    "executionInfo": {
     "elapsed": 455,
     "status": "ok",
     "timestamp": 1724222600730,
     "user": {
      "displayName": "Chiku",
      "userId": "00734284376877800923"
     },
     "user_tz": -330
    },
    "id": "2BU3U3swrIPw",
    "outputId": "92b8fe3e-903f-4f8f-e499-e4c23aa89dc4"
   },
   "outputs": [
    {
     "name": "stdout",
     "output_type": "stream",
     "text": [
      "\n",
      "Tuple with Mixed Datatypes: \n",
      "(5, 'Welcome', 7, 'Geeks')\n",
      "\n",
      "Tuple with nested tuples: \n",
      "((0, 1, 2, 3), ('python', 'geek'))\n",
      "\n",
      "Tuple with repetition: \n",
      "('Geeks', 'Geeks', 'Geeks')\n"
     ]
    }
   ],
   "source": [
    "# Creating a Tuple# with Mixed Datatype\n",
    "Tuple1 = (5, 'Welcome', 7, 'Geeks')\n",
    "print(\"\\nTuple with Mixed Datatypes: \")\n",
    "print(Tuple1)\n",
    "# Creating a Tuple# with nested tuples\n",
    "Tuple1 = (0, 1, 2, 3)\n",
    "Tuple2 = ('python', 'geek')\n",
    "Tuple3 = (Tuple1, Tuple2)\n",
    "print(\"\\nTuple with nested tuples: \")\n",
    "print(Tuple3)\n",
    "# Creating a Tuple# with repetition\n",
    "Tuple1 = ('Geeks',) * 3\n",
    "print(\"\\nTuple with repetition: \")\n",
    "print(Tuple1)\n"
   ]
  },
  {
   "cell_type": "code",
   "execution_count": null,
   "metadata": {
    "colab": {
     "base_uri": "https://localhost:8080/"
    },
    "executionInfo": {
     "elapsed": 454,
     "status": "ok",
     "timestamp": 1724222683614,
     "user": {
      "displayName": "Chiku",
      "userId": "00734284376877800923"
     },
     "user_tz": -330
    },
    "id": "zdvvOp9tri_O",
    "outputId": "496bce0d-1b88-4a4a-8e93-43dcdd637de0"
   },
   "outputs": [
    {
     "name": "stdout",
     "output_type": "stream",
     "text": [
      "\n",
      "First element of Tuple: \n",
      "G\n",
      "\n",
      "Values after unpacking: \n",
      "Geeks\n",
      "For\n",
      "Geeks\n"
     ]
    }
   ],
   "source": [
    "# Accessing Tuple\n",
    "Tuple1 = tuple(\"Geeks\")\n",
    "print(\"\\nFirst element of Tuple: \")\n",
    "print(Tuple1[0])\n",
    "\n",
    "# Tuple unpacking\n",
    "Tuple1 = (\"Geeks\", \"For\", \"Geeks\")\n",
    "\n",
    "# This line unpack\n",
    "# values of Tuple1\n",
    "a, b, c = Tuple1\n",
    "print(\"\\nValues after unpacking: \")\n",
    "print(a)\n",
    "print(b)\n",
    "print(c)\n"
   ]
  },
  {
   "cell_type": "markdown",
   "metadata": {
    "id": "-w9WG4Iycjvi"
   },
   "source": [
    "\n",
    "\n",
    "---\n",
    "\n"
   ]
  },
  {
   "cell_type": "markdown",
   "metadata": {
    "id": "kCmQuEdycknJ"
   },
   "source": [
    "**Implement a program to store a matrix using nested list and fetch index element of matrix**"
   ]
  },
  {
   "cell_type": "code",
   "execution_count": null,
   "metadata": {
    "colab": {
     "base_uri": "https://localhost:8080/"
    },
    "executionInfo": {
     "elapsed": 452,
     "status": "ok",
     "timestamp": 1724219042484,
     "user": {
      "displayName": "Chiku",
      "userId": "00734284376877800923"
     },
     "user_tz": -330
    },
    "id": "mwYBY2-VcxiS",
    "outputId": "7580ca73-55a1-4db9-bc79-8f9306bf8985"
   },
   "outputs": [
    {
     "name": "stdout",
     "output_type": "stream",
     "text": [
      "Matrix:\n",
      "[1, 2, 3]\n",
      "[4, 5, 6]\n",
      "[7, 8, 9]\n",
      "\n",
      "Fetching elements:\n",
      "Element at (0, 0): 1\n",
      "Element at (1, 1): 5\n",
      "Element at (2, 2): 9\n",
      "Element at (3, 3): Index out of bounds\n"
     ]
    }
   ],
   "source": [
    "matrix = [[1, 2, 3], [4, 5, 6], [7, 8, 9]]\n",
    "\n",
    "def fetch_element(matrix, row, col):\n",
    "    if row < len(matrix) and col < len(matrix[0]):\n",
    "        return matrix[row][col]\n",
    "    else:\n",
    "        return \"Index out of bounds\"\n",
    "\n",
    "print(\"Matrix:\")\n",
    "for row in matrix:\n",
    "    print(row)\n",
    "\n",
    "print(\"\\nFetching elements:\")\n",
    "print(\"Element at (0, 0):\", fetch_element(matrix, 0, 0))\n",
    "print(\"Element at (1, 1):\", fetch_element(matrix, 1, 1))\n",
    "print(\"Element at (2, 2):\", fetch_element(matrix, 2, 2))\n",
    "print(\"Element at (3, 3):\", fetch_element(matrix, 3, 3))"
   ]
  },
  {
   "cell_type": "markdown",
   "metadata": {
    "id": "bH0WWdx3exNQ"
   },
   "source": [
    "\n",
    "\n",
    "---\n",
    "\n"
   ]
  },
  {
   "cell_type": "markdown",
   "metadata": {
    "id": "IY-Teefpex3n"
   },
   "source": [
    "**Create a list of 10 random players in football team. Perform following operations on list and discuss on each output. Display list, Sorts the list, use remove to Remove the first item with the specified value**"
   ]
  },
  {
   "cell_type": "code",
   "execution_count": null,
   "metadata": {
    "colab": {
     "base_uri": "https://localhost:8080/"
    },
    "executionInfo": {
     "elapsed": 422,
     "status": "ok",
     "timestamp": 1724220012784,
     "user": {
      "displayName": "Chiku",
      "userId": "00734284376877800923"
     },
     "user_tz": -330
    },
    "id": "5LF-GkMpe0UY",
    "outputId": "c325e401-1aae-481c-9db9-0e77dc0464c9"
   },
   "outputs": [
    {
     "name": "stdout",
     "output_type": "stream",
     "text": [
      "Players List : \n",
      "['player1', 'player9', 'player3', 'player10', 'player5', 'player6', 'player7', 'player8', 'player2', 'player4']\n",
      "\n",
      "Sorted List : \n",
      "['player1', 'player10', 'player2', 'player3', 'player4', 'player5', 'player6', 'player7', 'player8', 'player9']\n",
      "\n",
      "List after removing player2 : \n",
      "['player1', 'player10', 'player3', 'player4', 'player5', 'player6', 'player7', 'player8', 'player9']\n"
     ]
    }
   ],
   "source": [
    "players = ['player1','player9','player3','player10','player5','player6','player7','player8','player2','player4']\n",
    "\n",
    "print(\"Players List : \")\n",
    "print(players)\n",
    "\n",
    "players.sort()\n",
    "print(\"\\nSorted List : \")\n",
    "print(players)\n",
    "\n",
    "players.remove('player2')\n",
    "print(\"\\nList after removing player2 : \")\n",
    "print(players)"
   ]
  },
  {
   "cell_type": "markdown",
   "metadata": {
    "id": "c7Yx7mDxhskl"
   },
   "source": [
    "\n",
    "\n",
    "---\n",
    "\n"
   ]
  },
  {
   "cell_type": "markdown",
   "metadata": {
    "id": "87yW4HPuhtpr"
   },
   "source": [
    "**Write a program to randomly select 10 integer elements from range 100 to 200 and find the minimum and maximum among all.**"
   ]
  },
  {
   "cell_type": "code",
   "execution_count": 2,
   "metadata": {
    "colab": {
     "base_uri": "https://localhost:8080/"
    },
    "executionInfo": {
     "elapsed": 1313,
     "status": "ok",
     "timestamp": 1724252202176,
     "user": {
      "displayName": "Chiku",
      "userId": "00734284376877800923"
     },
     "user_tz": -330
    },
    "id": "r8JLeb8thvI2",
    "outputId": "366099d4-c0ff-4cc3-903b-80f9f1308bf4"
   },
   "outputs": [
    {
     "name": "stdout",
     "output_type": "stream",
     "text": [
      "Randomly selected numbers : \n",
      "[190, 170, 114, 157, 186, 119, 181, 124, 195, 180]\n",
      "\n",
      "Minimum number :  114\n",
      "Maximum number :  195\n"
     ]
    }
   ],
   "source": [
    "import random\n",
    "\n",
    "numbers = list(random.sample(range(100, 201),10))\n",
    "\n",
    "print(\"Randomly selected numbers : \")\n",
    "print(numbers)\n",
    "\n",
    "print(\"\\nMinimum number : \", min(numbers))\n",
    "print(\"Maximum number : \", max(numbers))"
   ]
  },
  {
   "cell_type": "markdown",
   "metadata": {
    "id": "qxiX4OVvjBs1"
   },
   "source": [
    "\n",
    "\n",
    "---\n",
    "\n"
   ]
  },
  {
   "cell_type": "markdown",
   "metadata": {
    "id": "3JBd4O23jCVT"
   },
   "source": [
    "**Create a dictionary of 5 countries with their currency details and display them**"
   ]
  },
  {
   "cell_type": "code",
   "execution_count": null,
   "metadata": {
    "colab": {
     "base_uri": "https://localhost:8080/"
    },
    "executionInfo": {
     "elapsed": 661,
     "status": "ok",
     "timestamp": 1724221437840,
     "user": {
      "displayName": "Chiku",
      "userId": "00734284376877800923"
     },
     "user_tz": -330
    },
    "id": "y4MnTgCpjFxj",
    "outputId": "a14ef220-4979-4d5c-a6a3-44901549f432"
   },
   "outputs": [
    {
     "name": "stdout",
     "output_type": "stream",
     "text": [
      "Countries and their Currency Details:\n",
      "USA:\n",
      "\tCurrency:  US Dollar\n",
      "\tCode:  USD\n",
      "India:\n",
      "\tCurrency:  Indian Rupee\n",
      "\tCode:  INR\n",
      "Japan:\n",
      "\tCurrency:  Japanese Yen\n",
      "\tCode:  JPY\n",
      "UK:\n",
      "\tCurrency:  Pound Sterling\n",
      "\tCode:  GBP\n",
      "Brazil:\n",
      "\tCurrency:  Real\n",
      "\tCode:  BRL\n"
     ]
    }
   ],
   "source": [
    "countries = {\n",
    "    \"USA\": {\"currency\": \"US Dollar\", \"code\": \"USD\"},\n",
    "    \"India\": {\"currency\": \"Indian Rupee\", \"code\": \"INR\"},\n",
    "    \"Japan\": {\"currency\": \"Japanese Yen\", \"code\": \"JPY\"},\n",
    "    \"UK\": {\"currency\": \"Pound Sterling\", \"code\": \"GBP\"},\n",
    "    \"Brazil\": {\"currency\": \"Real\", \"code\": \"BRL\"}\n",
    "}\n",
    "\n",
    "print(\"Countries and their Currency Details:\")\n",
    "for country, details in countries.items():\n",
    "    print(country+\":\")\n",
    "    print(\"\\tCurrency: \",details['currency'])\n",
    "    print(\"\\tCode: \",details['code'])"
   ]
  }
 ],
 "metadata": {
  "colab": {
   "authorship_tag": "ABX9TyOpHAW/kRu9Jf1NnNa4LTi6",
   "provenance": []
  },
  "kernelspec": {
   "display_name": "Python 3",
   "language": "python",
   "name": "python3"
  },
  "language_info": {
   "codemirror_mode": {
    "name": "ipython",
    "version": 3
   },
   "file_extension": ".py",
   "mimetype": "text/x-python",
   "name": "python",
   "nbconvert_exporter": "python",
   "pygments_lexer": "ipython3",
   "version": "3.7.4"
  }
 },
 "nbformat": 4,
 "nbformat_minor": 1
}
