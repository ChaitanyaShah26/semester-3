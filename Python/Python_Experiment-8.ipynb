{
 "cells": [
  {
   "cell_type": "markdown",
   "metadata": {
    "id": "MR80_7iHGmok"
   },
   "source": [
    "<h1 style=\"text-align: center\">Experiment 8</h1>"
   ]
  },
  {
   "cell_type": "markdown",
   "metadata": {
    "id": "MnauWV9XG-Gu"
   },
   "source": [
    "\n",
    "\n",
    "---\n",
    "\n"
   ]
  },
  {
   "cell_type": "markdown",
   "metadata": {
    "id": "2ffwzDdSg5UW"
   },
   "source": [
    "**Program to implement a decorator and repeat the function 5 times through 1 call**"
   ]
  },
  {
   "cell_type": "code",
   "execution_count": null,
   "metadata": {
    "colab": {
     "base_uri": "https://localhost:8080/"
    },
    "executionInfo": {
     "elapsed": 973,
     "status": "ok",
     "timestamp": 1728406234003,
     "user": {
      "displayName": "Chiku",
      "userId": "00734284376877800923"
     },
     "user_tz": -330
    },
    "id": "QQg8a71Qg46g",
    "outputId": "4f6ad883-bad7-4b70-bc01-8adca3ba42b0"
   },
   "outputs": [
    {
     "name": "stdout",
     "output_type": "stream",
     "text": [
      "-----\n",
      "Hello\n",
      "World\n",
      "-----\n",
      "Hello\n",
      "World\n",
      "-----\n",
      "Hello\n",
      "World\n",
      "-----\n",
      "Hello\n",
      "World\n",
      "-----\n",
      "Hello\n",
      "World\n"
     ]
    }
   ],
   "source": [
    "def outer(func):\n",
    "    def inner():\n",
    "      print(\"Hello\")\n",
    "      func()\n",
    "    return inner\n",
    "\n",
    "@outer\n",
    "def world():\n",
    "    print(\"World\")\n",
    "    return world\n",
    "\n",
    "for i in range(5):\n",
    "    print(\"-----\")\n",
    "    world()"
   ]
  },
  {
   "cell_type": "markdown",
   "metadata": {
    "id": "lyGLS694QXiT"
   },
   "source": [
    "\n",
    "\n",
    "---\n",
    "\n"
   ]
  },
  {
   "cell_type": "markdown",
   "metadata": {
    "id": "yO_wJ02vg8Tw"
   },
   "source": [
    "**Program to create even_arg_decorator that checks if one argument passed to a function is even, if it is even allow function to execute else print error message.**"
   ]
  },
  {
   "cell_type": "code",
   "execution_count": null,
   "metadata": {
    "colab": {
     "base_uri": "https://localhost:8080/"
    },
    "executionInfo": {
     "elapsed": 1575,
     "status": "ok",
     "timestamp": 1728406552629,
     "user": {
      "displayName": "Chiku",
      "userId": "00734284376877800923"
     },
     "user_tz": -330
    },
    "id": "6Po3ogBDg8Bt",
    "outputId": "2afe71cf-de32-4bb8-b13f-aef50cff593e"
   },
   "outputs": [
    {
     "name": "stdout",
     "output_type": "stream",
     "text": [
      "Enter a number : 1\n",
      "Error!\n"
     ]
    }
   ],
   "source": [
    "n = int(input(\"Enter a number : \"))\n",
    "def check(func):\n",
    "    def inner(x):\n",
    "        if x%2 == 0:\n",
    "            return func(x)\n",
    "        else:\n",
    "            print(\"Error!\")\n",
    "    return inner\n",
    "\n",
    "@check\n",
    "def inputNum(num):\n",
    "    return \"Even\"\n",
    "\n",
    "inputNum(n)"
   ]
  },
  {
   "cell_type": "markdown",
   "metadata": {
    "id": "lp_5gg9GQhg5"
   },
   "source": [
    "\n",
    "\n",
    "---\n",
    "\n"
   ]
  },
  {
   "cell_type": "markdown",
   "metadata": {
    "id": "AwE_z8pYhCIk"
   },
   "source": [
    "**Program to create decorator to multiply the output by a variable amount.**"
   ]
  },
  {
   "cell_type": "code",
   "execution_count": null,
   "metadata": {
    "colab": {
     "base_uri": "https://localhost:8080/"
    },
    "executionInfo": {
     "elapsed": 3805,
     "status": "ok",
     "timestamp": 1728451222094,
     "user": {
      "displayName": "Chiku",
      "userId": "00734284376877800923"
     },
     "user_tz": -330
    },
    "id": "7f3JojO4hBPc",
    "outputId": "46ad50ac-21ef-4e44-850d-8fb166cd16b9"
   },
   "outputs": [
    {
     "name": "stdout",
     "output_type": "stream",
     "text": [
      "Enter a number : 123\n"
     ]
    },
    {
     "data": {
      "text/plain": [
       "1230"
      ]
     },
     "execution_count": 4,
     "metadata": {},
     "output_type": "execute_result"
    }
   ],
   "source": [
    "num = int(input(\"Enter a number : \"))\n",
    "def multiply(num):\n",
    "    def mul(func):\n",
    "        def inner(x):\n",
    "            return num*func(x)\n",
    "        return inner\n",
    "    return mul\n",
    "\n",
    "@multiply(10)\n",
    "def product(num):\n",
    "    return num\n",
    "product(num)"
   ]
  },
  {
   "cell_type": "markdown",
   "metadata": {
    "id": "qaYBN6QRQ3UK"
   },
   "source": [
    "\n",
    "\n",
    "---\n",
    "\n"
   ]
  },
  {
   "cell_type": "markdown",
   "metadata": {
    "id": "8gdNx2gwhIi7"
   },
   "source": [
    "**Program to create two chain decorators square and doubled (multiply number by 2) and test the decorated function with calculate(num)**"
   ]
  },
  {
   "cell_type": "code",
   "execution_count": null,
   "metadata": {
    "colab": {
     "base_uri": "https://localhost:8080/"
    },
    "executionInfo": {
     "elapsed": 165356,
     "status": "ok",
     "timestamp": 1728451490374,
     "user": {
      "displayName": "Chiku",
      "userId": "00734284376877800923"
     },
     "user_tz": -330
    },
    "id": "ZCjCTEGlhINl",
    "outputId": "3ef6722d-53f1-42c9-cfae-a0ca7742c633"
   },
   "outputs": [
    {
     "name": "stdout",
     "output_type": "stream",
     "text": [
      "Enter a number : 6\n"
     ]
    },
    {
     "data": {
      "text/plain": [
       "144"
      ]
     },
     "execution_count": 5,
     "metadata": {},
     "output_type": "execute_result"
    }
   ],
   "source": [
    "num = int(input(\"Enter a number : \"))\n",
    "def square(func):\n",
    "    def inner(x):\n",
    "        return func(x)**2\n",
    "    return inner\n",
    "\n",
    "def double(func):\n",
    "    def inner(x):\n",
    "        return func(x)*2\n",
    "    return inner\n",
    "\n",
    "@square\n",
    "@double\n",
    "\n",
    "def calculate(num):\n",
    "    return num\n",
    "calculate(num)"
   ]
  }
 ],
 "metadata": {
  "colab": {
   "provenance": []
  },
  "kernelspec": {
   "display_name": "Python 3",
   "language": "python",
   "name": "python3"
  },
  "language_info": {
   "codemirror_mode": {
    "name": "ipython",
    "version": 3
   },
   "file_extension": ".py",
   "mimetype": "text/x-python",
   "name": "python",
   "nbconvert_exporter": "python",
   "pygments_lexer": "ipython3",
   "version": "3.7.4"
  }
 },
 "nbformat": 4,
 "nbformat_minor": 1
}
