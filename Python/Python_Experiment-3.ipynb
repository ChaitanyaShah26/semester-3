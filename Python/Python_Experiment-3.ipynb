{
 "cells": [
  {
   "cell_type": "markdown",
   "metadata": {},
   "source": [
    "<h1 style=\"text-align: center\">Experiment 3</h1>"
   ]
  },
  {
   "cell_type": "markdown",
   "metadata": {
    "id": "XLK7__S1RY72"
   },
   "source": [
    "\n",
    "\n",
    "---\n",
    "\n",
    "\n"
   ]
  },
  {
   "cell_type": "markdown",
   "metadata": {
    "id": "MR2m5gPsQ1aD"
   },
   "source": [
    "**Implement a program to display the geometric sequence as given below for a given value n, where n is the number of elements in the sequence.**\n",
    "1, 2, 4, 8, 16, 32, 64, .........., 1024\n",
    "\n",
    "Sample Input & Output:\n",
    "\n",
    "| Sample Input | Expected Output |\n",
    "|:--------:|:--------:|\n",
    "|  5   |  1, 2, 4, 8, 16   |\n",
    "|  8   |  1, 2, 4, 8, 16, 32, 64, 128   |"
   ]
  },
  {
   "cell_type": "code",
   "execution_count": null,
   "metadata": {
    "colab": {
     "base_uri": "https://localhost:8080/"
    },
    "executionInfo": {
     "elapsed": 3810,
     "status": "ok",
     "timestamp": 1724825881123,
     "user": {
      "displayName": "Chiku",
      "userId": "00734284376877800923"
     },
     "user_tz": -330
    },
    "id": "bbJPUrmlQ1aa",
    "outputId": "012051ac-aca9-47d9-c8a3-98b9188d1c89"
   },
   "outputs": [
    {
     "name": "stdout",
     "output_type": "stream",
     "text": [
      "Enter number of elements in GP : 8\n",
      "\n",
      "The Geometric Progression upto 8 numbers is :\n",
      "[1, 2, 4, 8, 16, 32, 64, 128]\n"
     ]
    }
   ],
   "source": [
    "import math\n",
    "\n",
    "n=int(input(\"Enter number of elements in GP : \"))\n",
    "gp=[]\n",
    "\n",
    "for i in range(0,n):\n",
    "  gp.append(int(math.pow(2,i)))\n",
    "\n",
    "print(\"\\nThe Geometric Progression upto {} numbers is :\\n{}\".format(n,gp))"
   ]
  },
  {
   "cell_type": "markdown",
   "metadata": {
    "id": "XhKVr2GkRDXZ"
   },
   "source": [
    "\n",
    "\n",
    "---\n",
    "\n"
   ]
  },
  {
   "cell_type": "markdown",
   "metadata": {
    "id": "Zr7i4tB8RELY"
   },
   "source": [
    "**Implement a program to check whether a given number is a plaindrome.**"
   ]
  },
  {
   "cell_type": "code",
   "execution_count": null,
   "metadata": {
    "colab": {
     "base_uri": "https://localhost:8080/"
    },
    "executionInfo": {
     "elapsed": 3428,
     "status": "ok",
     "timestamp": 1724824954243,
     "user": {
      "displayName": "Chiku",
      "userId": "00734284376877800923"
     },
     "user_tz": -330
    },
    "id": "KYhYrWZ3RWgH",
    "outputId": "4284c3f0-a5c3-45e1-b607-5581daaa892d"
   },
   "outputs": [
    {
     "name": "stdout",
     "output_type": "stream",
     "text": [
      "Enter a number : 10\n",
      "\n",
      "10 is not a palindrome.\n"
     ]
    }
   ],
   "source": [
    "n=int(input(\"Enter a number : \"))\n",
    "\n",
    "temp=n\n",
    "sum=0\n",
    "\n",
    "while n!=0:\n",
    "  digit=n%10\n",
    "  sum=sum*10 + digit\n",
    "  n=n//10\n",
    "\n",
    "if sum==temp:\n",
    "  print(\"\\n{} is a palindrome.\".format(temp))\n",
    "else:\n",
    "  print(\"\\n{} is not a palindrome.\".format(temp))"
   ]
  },
  {
   "cell_type": "markdown",
   "metadata": {
    "id": "i209G4qbRWxM"
   },
   "source": [
    "\n",
    "\n",
    "---\n",
    "\n"
   ]
  },
  {
   "cell_type": "markdown",
   "metadata": {
    "id": "Bydnik7QRX2i"
   },
   "source": [
    "**WAP to display all prime numbers within a range.**"
   ]
  },
  {
   "cell_type": "code",
   "execution_count": null,
   "metadata": {
    "colab": {
     "base_uri": "https://localhost:8080/"
    },
    "executionInfo": {
     "elapsed": 5470,
     "status": "ok",
     "timestamp": 1724824963330,
     "user": {
      "displayName": "Chiku",
      "userId": "00734284376877800923"
     },
     "user_tz": -330
    },
    "id": "zVsRHPrvTFVE",
    "outputId": "a9d2eca2-e88b-4ebb-92c2-35283ae6c438"
   },
   "outputs": [
    {
     "name": "stdout",
     "output_type": "stream",
     "text": [
      "Enter lower limit : 1\n",
      "Enter upper limit : 10\n",
      "\n",
      "Prime numbers between 1 and 10 are : \n",
      "1 \t\n",
      "2 \t\n",
      "3 \t\n",
      "5 \t\n",
      "7 \t\n"
     ]
    }
   ],
   "source": [
    "n1=int(input(\"Enter lower limit : \"))\n",
    "n2=int(input(\"Enter upper limit : \"))\n",
    "\n",
    "print(\"\\nPrime numbers between {} and {} are : \".format(n1,n2))\n",
    "for n in range(n1,n2+1):\n",
    "  for i in range(2, int(n**0.5)+1):\n",
    "    if n%i==0:\n",
    "      break\n",
    "  else:\n",
    "      print(n,\"\\t\")"
   ]
  },
  {
   "cell_type": "markdown",
   "metadata": {
    "id": "itvoFcipTFln"
   },
   "source": [
    "\n",
    "\n",
    "---\n",
    "\n"
   ]
  },
  {
   "cell_type": "markdown",
   "metadata": {
    "id": "Zp0vIeUKTGpt"
   },
   "source": [
    "**WAP to count the total number of digits in a number.**"
   ]
  },
  {
   "cell_type": "code",
   "execution_count": null,
   "metadata": {
    "colab": {
     "base_uri": "https://localhost:8080/"
    },
    "executionInfo": {
     "elapsed": 5022,
     "status": "ok",
     "timestamp": 1724824973244,
     "user": {
      "displayName": "Chiku",
      "userId": "00734284376877800923"
     },
     "user_tz": -330
    },
    "id": "P6fkJWUiTNkK",
    "outputId": "ffef34b2-a909-4f5a-c734-634e8b919ed6"
   },
   "outputs": [
    {
     "name": "stdout",
     "output_type": "stream",
     "text": [
      "Enter a number : 123456789\n",
      "\n",
      "Length of entered number is : 9\n"
     ]
    }
   ],
   "source": [
    "n=int(input(\"Enter a number : \"))\n",
    "\n",
    "l=0\n",
    "while n!=0:\n",
    "  n//=10\n",
    "  l+=1\n",
    "\n",
    "print(\"\\nLength of entered number is :\",l)"
   ]
  },
  {
   "cell_type": "markdown",
   "metadata": {
    "id": "aPaxs9xpTM4G"
   },
   "source": [
    "\n",
    "\n",
    "---\n",
    "\n"
   ]
  },
  {
   "attachments": {
    "image.png": {
     "image/png": "[encoded data removed]"
    }
   },
   "cell_type": "markdown",
   "metadata": {
    "id": "HTG6s9uTTOsq"
   },
   "source": [
    "**WAP to display the following pattern using nested for loop.**\n",
    "\n",
    "![](attachment:image.png)"
   ]
  },
  {
   "cell_type": "code",
   "execution_count": null,
   "metadata": {
    "colab": {
     "base_uri": "https://localhost:8080/"
    },
    "executionInfo": {
     "elapsed": 7304,
     "status": "ok",
     "timestamp": 1725119315867,
     "user": {
      "displayName": "Chiku",
      "userId": "00734284376877800923"
     },
     "user_tz": -330
    },
    "id": "SPtaXfTpUCzo",
    "outputId": "24178ff3-4e21-4f20-99ae-fda759950084"
   },
   "outputs": [
    {
     "name": "stdout",
     "output_type": "stream",
     "text": [
      "Enter the number of rows : 3\n",
      "*    *   *\n",
      "*   * *  *\n",
      "*  * * * *\n",
      "*   * *  *\n",
      "*    *   *\n"
     ]
    }
   ],
   "source": [
    "row=int(input(\"Enter the number of rows : \"))\n",
    "\n",
    "for i in range(0,row):\n",
    "  print(\"*\",end=\"\")\n",
    "  for j in range(0,row-i+1):\n",
    "    print(\" \",end=\"\")\n",
    "  for k in range(0, i+1):\n",
    "    print(\"* \",end=\"\")\n",
    "  for l in range(row - i - 1):\n",
    "    print(\" \", end=\"\")\n",
    "  print(\"*\")\n",
    "\n",
    "for i in range(0,row-1):\n",
    "  print(\"*\",end=\"\")\n",
    "  for j in range(0,i+3):\n",
    "    print(\" \",end=\"\")\n",
    "  for k in range(0, row-i-1):\n",
    "    print(\"* \",end=\"\")\n",
    "  for l in range(row - i - 2,row-1):\n",
    "    print(\" \", end=\"\")\n",
    "  print(\"*\")"
   ]
  },
  {
   "cell_type": "code",
   "execution_count": 1,
   "metadata": {
    "colab": {
     "base_uri": "https://localhost:8080/"
    },
    "executionInfo": {
     "elapsed": 1515,
     "status": "ok",
     "timestamp": 1725295825616,
     "user": {
      "displayName": "Reeva Jain",
      "userId": "05528347056481642846"
     },
     "user_tz": -330
    },
    "id": "G4UHewgQpIY0",
    "outputId": "4ddcda85-c46f-425f-f171-c813601e7662"
   },
   "outputs": [
    {
     "name": "stdout",
     "output_type": "stream",
     "text": [
      "Dictionary Iteration\n",
      "('xyz', 123)\n",
      "('abc', 345)\n"
     ]
    }
   ],
   "source": [
    "print(\"Dictionary Iteration\")\n",
    "d = dict()\n",
    "d['xyz'] = 123\n",
    "d['abc'] = 345\n",
    "for i in d:\n",
    "    print( (i, d[i]))\n"
   ]
  },
  {
   "cell_type": "code",
   "execution_count": 2,
   "metadata": {
    "colab": {
     "base_uri": "https://localhost:8080/"
    },
    "executionInfo": {
     "elapsed": 530,
     "status": "ok",
     "timestamp": 1725296027275,
     "user": {
      "displayName": "Reeva Jain",
      "userId": "05528347056481642846"
     },
     "user_tz": -330
    },
    "id": "IqBRsSBNp-lB",
    "outputId": "32055332-b8eb-4291-bbef-090993ca4968"
   },
   "outputs": [
    {
     "name": "stdout",
     "output_type": "stream",
     "text": [
      "1 2\n",
      "3 4\n",
      "5 6\n"
     ]
    }
   ],
   "source": [
    "t = ((1, 2), (3, 4), (5, 6))\n",
    "for a, b in t:\n",
    "    print(a, b)"
   ]
  }
 ],
 "metadata": {
  "colab": {
   "provenance": []
  },
  "kernelspec": {
   "display_name": "Python 3",
   "language": "python",
   "name": "python3"
  },
  "language_info": {
   "codemirror_mode": {
    "name": "ipython",
    "version": 3
   },
   "file_extension": ".py",
   "mimetype": "text/x-python",
   "name": "python",
   "nbconvert_exporter": "python",
   "pygments_lexer": "ipython3",
   "version": "3.7.4"
  }
 },
 "nbformat": 4,
 "nbformat_minor": 1
}
