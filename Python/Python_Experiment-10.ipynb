{
 "cells": [
  {
   "cell_type": "markdown",
   "metadata": {
    "id": "MR80_7iHGmok"
   },
   "source": [
    "<h1 style=\"text-align: center\">Experiment 10</h1>"
   ]
  },
  {
   "cell_type": "markdown",
   "metadata": {
    "id": "MnauWV9XG-Gu"
   },
   "source": [
    "\n",
    "\n",
    "---\n",
    "\n"
   ]
  },
  {
   "cell_type": "markdown",
   "metadata": {
    "id": "d3M2AnhLGwqk"
   },
   "source": [
    "**Create a Python function that checks if a given number is prime. Handle exceptions for non-integer input and provide informative error messages.**"
   ]
  },
  {
   "cell_type": "code",
   "execution_count": 2,
   "metadata": {
    "colab": {
     "base_uri": "https://localhost:8080/"
    },
    "executionInfo": {
     "elapsed": 4245,
     "status": "ok",
     "timestamp": 1729007911463,
     "user": {
      "displayName": "Chiku",
      "userId": "00734284376877800923"
     },
     "user_tz": -330
    },
    "id": "FnU96zLnG0lg",
    "outputId": "0506bc75-ca3f-404e-afb9-bdd379f49e3d"
   },
   "outputs": [
    {
     "name": "stdout",
     "output_type": "stream",
     "text": [
      "Enter a number: 40\n",
      "40 is not a prime number\n"
     ]
    }
   ],
   "source": [
    "def isPrime(num):\n",
    "    try:\n",
    "        num = int(num)\n",
    "        if num < 2:\n",
    "            return False\n",
    "        for i in range(2, int(num**0.5)+1):\n",
    "            if num % i == 0:\n",
    "                return False\n",
    "        return True\n",
    "    except ValueError:\n",
    "        return ValueError(\"Input is not a valid Integer\")\n",
    "\n",
    "try:\n",
    "    num = input(\"Enter a number: \")\n",
    "    if isPrime(num):\n",
    "        print(f\"{num} is a prime number\")\n",
    "    else:\n",
    "        print(f\"{num} is not a prime number\")\n",
    "except ValueError as e:\n",
    "    print(e)"
   ]
  },
  {
   "cell_type": "markdown",
   "metadata": {
    "id": "fFwt-3EsG084"
   },
   "source": [
    "\n",
    "\n",
    "---\n",
    "\n"
   ]
  },
  {
   "cell_type": "markdown",
   "metadata": {
    "id": "wJdFQlWYG6qK"
   },
   "source": [
    "**You're going to write an interactive calculator! User input is assumed to be a formula that consist of a number, an operator (at least + and -), and another number, separated by white space (e.g. 1 + 1). Split user input using str.split(), and check whether the resulting list is valid:\n",
    "<br>\n",
    "a.\tIf the input does not consist of 3 elements, raise a FormulaError, which is a custom Exception.\n",
    "<br>\n",
    "b.\tTry to convert the first and third input to a float (like so: float_value = float(str_value)). Catch any ValueError that occurs, and instead raise a FormulaError\n",
    "<br>\n",
    "c.\tIf the second input is not '+' or '-', again raise a FormulaError\n",
    "<br><br>If the input is valid, perform the calculation and print out the result. The user is then \tprompted to provide new input, and so on, until the user enters quit**"
   ]
  },
  {
   "cell_type": "code",
   "execution_count": 3,
   "metadata": {
    "colab": {
     "base_uri": "https://localhost:8080/"
    },
    "executionInfo": {
     "elapsed": 33144,
     "status": "ok",
     "timestamp": 1729008202176,
     "user": {
      "displayName": "Chiku",
      "userId": "00734284376877800923"
     },
     "user_tz": -330
    },
    "id": "fQw7vJvzG8Er",
    "outputId": "e253d973-94a2-408b-c6cf-e8d714f577da"
   },
   "outputs": [
    {
     "name": "stdout",
     "output_type": "stream",
     "text": [
      "Enter a formula(eg. 1+1) (or 'quit' to exit): 1 2 3\n",
      "\n",
      "Error: Invalid formula. Operator must be '+' or '-'\n",
      "Enter a formula(eg. 1+1) (or 'quit' to exit): 1 + 1\n",
      "\n",
      "Result: 2.0\n",
      "Enter a formula(eg. 1+1) (or 'quit' to exit): 2 + +\n",
      "\n",
      "Error: Invalid formula. Numbers must be valid numbers\n",
      "Enter a formula(eg. 1+1) (or 'quit' to exit): QUIT\n"
     ]
    }
   ],
   "source": [
    "class FormulaError(Exception):\n",
    "    pass\n",
    "\n",
    "def calculate(formula):\n",
    "    elements = formula.split()\n",
    "    if len(elements) != 3:\n",
    "        raise FormulaError(\"Invalid formula. Expected format: number operator number\")\n",
    "    try:\n",
    "        num1=float(elements[0])\n",
    "        num2=float(elements[2])\n",
    "    except ValueError:\n",
    "        raise FormulaError(\"Invalid formula. Numbers must be valid numbers\")\n",
    "\n",
    "    if elements[1] not in ['+', '-']:\n",
    "        raise FormulaError(\"Invalid formula. Operator must be '+' or '-'\")\n",
    "\n",
    "    if elements[1] == '+':\n",
    "        return num1 + num2\n",
    "    else:\n",
    "        return num1 - num2\n",
    "\n",
    "while True:\n",
    "    formula=input(\"Enter a formula(eg. 1+1) (or 'quit' to exit): \")\n",
    "    if formula.lower() == 'quit':\n",
    "        break\n",
    "    try:\n",
    "        result=calculate(formula)\n",
    "        print(\"\\nResult:\", result)\n",
    "    except FormulaError as e:\n",
    "        print(\"\\nError:\", e)"
   ]
  },
  {
   "cell_type": "markdown",
   "metadata": {
    "id": "IZztQ4UAG8xG"
   },
   "source": [
    "\n",
    "\n",
    "---\n",
    "\n"
   ]
  },
  {
   "cell_type": "markdown",
   "metadata": {
    "id": "-OZpnc4hHCbz"
   },
   "source": [
    "**Write a Python program that opens a file and display contents of file and handles a FileNotFoundError exception if the file does not exist.**"
   ]
  },
  {
   "cell_type": "code",
   "execution_count": 4,
   "metadata": {
    "colab": {
     "base_uri": "https://localhost:8080/"
    },
    "executionInfo": {
     "elapsed": 7240,
     "status": "ok",
     "timestamp": 1729008327265,
     "user": {
      "displayName": "Chiku",
      "userId": "00734284376877800923"
     },
     "user_tz": -330
    },
    "id": "aR-Qn8bZHC5L",
    "outputId": "26c0425c-59f4-452a-a0e4-88261553ac1b"
   },
   "outputs": [
    {
     "name": "stdout",
     "output_type": "stream",
     "text": [
      "Enter the file name: hello.txt\n",
      "\n",
      "Error: File 'hello.txt' not found\n"
     ]
    }
   ],
   "source": [
    "try:\n",
    "    file_name=input(\"Enter the file name: \")\n",
    "    with open(file_name, 'r') as file:\n",
    "        content=file.read()\n",
    "        print(\"\\nFile Content:\")\n",
    "        print(content)\n",
    "\n",
    "except FileNotFoundError:\n",
    "    print(f\"\\nError: File '{file_name}' not found\")\n",
    "except Exception as e:\n",
    "    print(f\"\\nError: {e}\")"
   ]
  },
  {
   "cell_type": "code",
   "execution_count": 2,
   "metadata": {
    "colab": {
     "base_uri": "https://localhost:8080/"
    },
    "executionInfo": {
     "elapsed": 4257,
     "status": "ok",
     "timestamp": 1729008862450,
     "user": {
      "displayName": "Chiku",
      "userId": "00734284376877800923"
     },
     "user_tz": -330
    },
    "id": "8-Q6PK1C7Y2L",
    "outputId": "c662523f-cbd2-40dc-fb06-57eee504005b"
   },
   "outputs": [
    {
     "name": "stdout",
     "output_type": "stream",
     "text": [
      "Enter the file name: Expt10_Text.txt\n",
      "\n",
      "File Content:\n",
      "Hello!!\n"
     ]
    }
   ],
   "source": [
    "try:\n",
    "    file_name=input(\"Enter the file name: \")\n",
    "    with open(file_name, 'r') as file:\n",
    "        content=file.read()\n",
    "        print(\"\\nFile Content:\")\n",
    "        print(content)\n",
    "\n",
    "except FileNotFoundError:\n",
    "    print(f\"\\nError: File '{file_name}' not found\")\n",
    "except Exception as e:\n",
    "    print(f\"\\nError: {e}\")"
   ]
  },
  {
   "cell_type": "markdown",
   "metadata": {
    "id": "6-zt_70K2oNc"
   },
   "source": [
    "\n",
    "\n",
    "---\n",
    "\n"
   ]
  },
  {
   "cell_type": "markdown",
   "metadata": {
    "id": "cGqsWexz2pd6"
   },
   "source": [
    "**Write a Python program that opens a file in write mode using with..open and handles a PermissionError exception if there is a permission issue.**"
   ]
  },
  {
   "cell_type": "code",
   "execution_count": 3,
   "metadata": {
    "colab": {
     "base_uri": "https://localhost:8080/"
    },
    "executionInfo": {
     "elapsed": 13999,
     "status": "ok",
     "timestamp": 1729008853041,
     "user": {
      "displayName": "Chiku",
      "userId": "00734284376877800923"
     },
     "user_tz": -330
    },
    "id": "dS8khczI2p09",
    "outputId": "7310c1b8-a7e0-4060-c519-b438767a70f4"
   },
   "outputs": [
    {
     "name": "stdout",
     "output_type": "stream",
     "text": [
      "Write content in the file : Hello World!\n",
      "File Written Successfully!\n"
     ]
    }
   ],
   "source": [
    "try:\n",
    "    with open(\"Expt10_Text.txt\",'w') as file:\n",
    "        text=input(\"Write content in the file : \")\n",
    "        print(\"File Written Successfully!\")\n",
    "        file.write(text)\n",
    "\n",
    "except PermissionError:\n",
    "    print(\"\\nError: Permission denied to write to the file\")"
   ]
  }
 ],
 "metadata": {
  "colab": {
   "provenance": []
  },
  "kernelspec": {
   "display_name": "Python 3",
   "language": "python",
   "name": "python3"
  },
  "language_info": {
   "codemirror_mode": {
    "name": "ipython",
    "version": 3
   },
   "file_extension": ".py",
   "mimetype": "text/x-python",
   "name": "python",
   "nbconvert_exporter": "python",
   "pygments_lexer": "ipython3",
   "version": "3.7.4"
  }
 },
 "nbformat": 4,
 "nbformat_minor": 1
}
