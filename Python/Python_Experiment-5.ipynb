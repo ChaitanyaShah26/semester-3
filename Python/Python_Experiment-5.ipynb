{
 "cells": [
  {
   "cell_type": "markdown",
   "metadata": {
    "id": "MR80_7iHGmok"
   },
   "source": [
    "<h1 style=\"text-align: center\">Experiment 5</h1>"
   ]
  },
  {
   "cell_type": "markdown",
   "metadata": {
    "id": "MnauWV9XG-Gu"
   },
   "source": [
    "\n",
    "\n",
    "---\n",
    "\n"
   ]
  },
  {
   "cell_type": "markdown",
   "metadata": {
    "id": "NIbDNaBrQLh3"
   },
   "source": [
    "**WAP to implement simple calculator using function**"
   ]
  },
  {
   "cell_type": "code",
   "execution_count": null,
   "metadata": {
    "colab": {
     "base_uri": "https://localhost:8080/"
    },
    "executionInfo": {
     "elapsed": 25110,
     "status": "ok",
     "timestamp": 1727086500242,
     "user": {
      "displayName": "Chiku",
      "userId": "00734284376877800923"
     },
     "user_tz": -330
    },
    "id": "2fbXPHVDTyvM",
    "outputId": "bc5ab455-8df7-4c18-cb15-82865622850c"
   },
   "outputs": [
    {
     "name": "stdout",
     "output_type": "stream",
     "text": [
      "---- Simple Calculator ----\n",
      "Enter a choice to perform operation:\n",
      "\t1. Addition\n",
      "\t2. Subtraction\n",
      "\t3. Multiplication\n",
      "\t4. Division\n",
      "\t5. EXIT\n",
      "Enter your choice: 1\n",
      "Enter first number: 12\n",
      "Enter second number: 15\n",
      "12 + 15 = 27\n",
      "Enter your choice: 2\n",
      "Enter first number: 100\n",
      "Enter second number: 200\n",
      "100 - 200 = -100\n",
      "Enter your choice: 3\n",
      "Enter first number: 15\n",
      "Enter second number: 125\n",
      "15 * 125 = 1875\n",
      "Enter your choice: 4\n",
      "Enter first number: 1235\n",
      "Enter second number: 5\n",
      "1235 / 5 = 247.0\n",
      "Enter your choice: 5\n",
      "\t~~~~ Calculator Exited ~~~~\t\n"
     ]
    }
   ],
   "source": [
    "def add(a,b):\n",
    "    return a+b\n",
    "def sub(a,b):\n",
    "    return a-b\n",
    "def mul(a,b):\n",
    "    return a*b\n",
    "def div(a,b):\n",
    "    return a/b\n",
    "\n",
    "choice=0\n",
    "print(\"---- Simple Calculator ----\")\n",
    "print(\"Enter a choice to perform operation:\\n\\t1. Addition\\n\\t2. Subtraction\\n\\t3. Multiplication\\n\\t4. Division\\n\\t5. EXIT\")\n",
    "\n",
    "while choice!=5:\n",
    "    choice=int(input(\"Enter your choice: \"))\n",
    "    if choice in range(1,5):\n",
    "        a=int(input(\"Enter first number: \"))\n",
    "        b=int(input(\"Enter second number: \"))\n",
    "\n",
    "        if choice==1:\n",
    "            print(a,\"+\",b,\"=\",add(a,b))\n",
    "        elif choice==2:\n",
    "            print(a,\"-\",b,\"=\",sub(a,b))\n",
    "        elif choice==3:\n",
    "            print(a,\"*\",b,\"=\",mul(a,b))\n",
    "        elif choice==4:\n",
    "            print(a,\"/\",b,\"=\",div(a,b))\n",
    "    elif choice==5:\n",
    "        print(\"\\t~~~~ Calculator Exited ~~~~\\t\")\n",
    "    else:\n",
    "        print(\"Invalid Choice\")"
   ]
  },
  {
   "cell_type": "markdown",
   "metadata": {
    "id": "lyGLS694QXiT"
   },
   "source": [
    "\n",
    "\n",
    "---\n",
    "\n"
   ]
  },
  {
   "cell_type": "markdown",
   "metadata": {
    "id": "4ZOIXcscQYWY"
   },
   "source": [
    "**WAP to find out the prime factors of a number.**"
   ]
  },
  {
   "cell_type": "code",
   "execution_count": null,
   "metadata": {
    "colab": {
     "base_uri": "https://localhost:8080/"
    },
    "executionInfo": {
     "elapsed": 2216,
     "status": "ok",
     "timestamp": 1727086564657,
     "user": {
      "displayName": "Chiku",
      "userId": "00734284376877800923"
     },
     "user_tz": -330
    },
    "id": "tADETPu3XXPN",
    "outputId": "2dd74f05-b47d-4e21-8aa9-ff78b6acf113"
   },
   "outputs": [
    {
     "name": "stdout",
     "output_type": "stream",
     "text": [
      "Enter a number: 50\n",
      "Prime factors of 50 are: [2, 5, 5]\n"
     ]
    }
   ],
   "source": [
    "def prime_factors(num):\n",
    "    factors = []\n",
    "    for i in range(2, num+1):\n",
    "        while num % i == 0:\n",
    "            factors.append(i)\n",
    "            num //= i\n",
    "    return factors\n",
    "\n",
    "num = int(input(\"Enter a number: \"))\n",
    "print(\"Prime factors of\", num, \"are:\", prime_factors(num))"
   ]
  },
  {
   "cell_type": "markdown",
   "metadata": {
    "id": "lp_5gg9GQhg5"
   },
   "source": [
    "\n",
    "\n",
    "---\n",
    "\n"
   ]
  },
  {
   "cell_type": "markdown",
   "metadata": {
    "id": "va-xds6iQikQ"
   },
   "source": [
    "**Given three integers between 1 and 11, if their sum is less than or equal to 21, return their sum. If their sum exceeds 21 and there's an eleven, reduce the total sum by 10. Finally, if the sum (even after adjustment) exceeds 21, return 'BUST'**"
   ]
  },
  {
   "cell_type": "code",
   "execution_count": null,
   "metadata": {
    "colab": {
     "base_uri": "https://localhost:8080/"
    },
    "executionInfo": {
     "elapsed": 5223,
     "status": "ok",
     "timestamp": 1727087289421,
     "user": {
      "displayName": "Chiku",
      "userId": "00734284376877800923"
     },
     "user_tz": -330
    },
    "id": "wLd-MxUCQ2z_",
    "outputId": "08b1243b-7c63-4c4b-848d-ed600b4d4ee4"
   },
   "outputs": [
    {
     "name": "stdout",
     "output_type": "stream",
     "text": [
      "Enter a number : 11\n",
      "Enter a number : 11\n",
      "Enter a number : 11\n",
      "BUST\n"
     ]
    }
   ],
   "source": [
    "a=int(input(\"Enter a number : \"))\n",
    "b=int(input(\"Enter a number : \"))\n",
    "c=int(input(\"Enter a number : \"))\n",
    "\n",
    "def adjustment(a,b,c):\n",
    "    if (a,b,c in range(0,12)):\n",
    "        sum=a+b+c\n",
    "        if sum<=21:\n",
    "            return sum\n",
    "        elif sum>21 and (a==11 or b==11 or c==11):\n",
    "            sum-=10\n",
    "            if sum>21:\n",
    "                return \"BUST\"\n",
    "            else:\n",
    "                return sum\n",
    "    return \"Numbers not in range of 1 and 11.\"\n",
    "\n",
    "print(adjustment(a,b,c))"
   ]
  },
  {
   "cell_type": "markdown",
   "metadata": {
    "id": "qaYBN6QRQ3UK"
   },
   "source": [
    "\n",
    "\n",
    "---\n",
    "\n"
   ]
  },
  {
   "cell_type": "markdown",
   "metadata": {
    "id": "h8ygUdghQ4OK"
   },
   "source": [
    "**WAP to print Fibonacci series using recursion.**"
   ]
  },
  {
   "cell_type": "code",
   "execution_count": null,
   "metadata": {
    "colab": {
     "base_uri": "https://localhost:8080/"
    },
    "executionInfo": {
     "elapsed": 3534,
     "status": "ok",
     "timestamp": 1727087773877,
     "user": {
      "displayName": "Chiku",
      "userId": "00734284376877800923"
     },
     "user_tz": -330
    },
    "id": "Z6kqBLFxQ8ur",
    "outputId": "c05bc73e-709e-4910-cb7d-444d9213632a"
   },
   "outputs": [
    {
     "name": "stdout",
     "output_type": "stream",
     "text": [
      "Enter a number: 10\n",
      "Fibonacci series:\n",
      "0 1 1 2 3 5 8 13 21 34 "
     ]
    }
   ],
   "source": [
    "n=int(input(\"Enter a number: \"))\n",
    "\n",
    "def fibonacci(n):\n",
    "    if n==0:\n",
    "        return 0\n",
    "    elif n==1:\n",
    "        return 1\n",
    "    else:\n",
    "        return fibonacci(n-1)+fibonacci(n-2)\n",
    "\n",
    "print(\"Fibonacci series:\")\n",
    "for i in range(n):\n",
    "    print(fibonacci(i),end=\" \")"
   ]
  },
  {
   "cell_type": "markdown",
   "metadata": {
    "id": "FfPMPFgeQ9Dp"
   },
   "source": [
    "\n",
    "\n",
    "---\n",
    "\n"
   ]
  },
  {
   "cell_type": "markdown",
   "metadata": {
    "id": "IFS4tEp7Q94a"
   },
   "source": [
    "**Write a function that takes in a list of integers and returns True if it contains 007 in order**"
   ]
  },
  {
   "cell_type": "code",
   "execution_count": null,
   "metadata": {
    "colab": {
     "base_uri": "https://localhost:8080/"
    },
    "executionInfo": {
     "elapsed": 9870,
     "status": "ok",
     "timestamp": 1727087622977,
     "user": {
      "displayName": "Chiku",
      "userId": "00734284376877800923"
     },
     "user_tz": -330
    },
    "id": "_iVN0kC0REZ1",
    "outputId": "7a4cf5f8-e535-4130-9575-f4c096bbd3eb"
   },
   "outputs": [
    {
     "name": "stdout",
     "output_type": "stream",
     "text": [
      "Enter numbers in list (seperated by Space): 1 2 3 0 0 7 8 9 10\n",
      "True\n"
     ]
    }
   ],
   "source": [
    "intList = input(\"Enter numbers in list (seperated by Space): \").split()\n",
    "\n",
    "def check007(intList):\n",
    "    for i in range(len(intList)):\n",
    "        if intList[i:i+3] == ['0','0','7']:\n",
    "            return True\n",
    "    return False\n",
    "\n",
    "print(check007(intList))"
   ]
  }
 ],
 "metadata": {
  "colab": {
   "authorship_tag": "ABX9TyOXesAKC7cTe3YZaV+7fgnX",
   "provenance": []
  },
  "kernelspec": {
   "display_name": "Python 3",
   "language": "python",
   "name": "python3"
  },
  "language_info": {
   "codemirror_mode": {
    "name": "ipython",
    "version": 3
   },
   "file_extension": ".py",
   "mimetype": "text/x-python",
   "name": "python",
   "nbconvert_exporter": "python",
   "pygments_lexer": "ipython3",
   "version": "3.7.4"
  }
 },
 "nbformat": 4,
 "nbformat_minor": 1
}
