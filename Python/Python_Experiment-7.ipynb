{
 "cells": [
  {
   "cell_type": "markdown",
   "metadata": {
    "id": "MR80_7iHGmok"
   },
   "source": [
    "<h1 style=\"text-align: center\">Experiment 7</h1>"
   ]
  },
  {
   "cell_type": "markdown",
   "metadata": {
    "id": "MnauWV9XG-Gu"
   },
   "source": [
    "\n",
    "\n",
    "---\n",
    "\n"
   ]
  },
  {
   "cell_type": "markdown",
   "metadata": {
    "id": "2ffwzDdSg5UW"
   },
   "source": [
    "**Write a Python program to sort a list of tuples using Lambda.**"
   ]
  },
  {
   "cell_type": "code",
   "execution_count": 11,
   "metadata": {
    "colab": {
     "base_uri": "https://localhost:8080/",
     "height": 0
    },
    "executionInfo": {
     "elapsed": 15490,
     "status": "ok",
     "timestamp": 1728402825855,
     "user": {
      "displayName": "Chiku",
      "userId": "00734284376877800923"
     },
     "user_tz": -330
    },
    "id": "QQg8a71Qg46g",
    "outputId": "3a518506-f5fd-4819-8a43-fc79757770d1"
   },
   "outputs": [
    {
     "name": "stdout",
     "output_type": "stream",
     "text": [
      "Enter number of Elements : 2\n",
      "Enter elements in tuple (seperated by comma) : 10,15,6\n",
      "Enter elements in tuple (seperated by comma) : 12,50,-2\n",
      "\n",
      "List of Tuples : \n",
      "[(10, 15, 6), (12, 50, -2)]\n",
      "\n",
      "Sorted List of Tuples : \n",
      "[[6, 10, 15], [-2, 12, 50]]\n"
     ]
    }
   ],
   "source": [
    "n = int(input(\"Enter number of Elements : \"))\n",
    "list_tuples = [tuple(int(i) for i in input(\"Enter elements in tuple (seperated by comma) : \").split(\",\")) for j in range(n)]\n",
    "\n",
    "print(\"\\nList of Tuples : \")\n",
    "print(list_tuples)\n",
    "\n",
    "sorted_tuples = list(map(lambda x:sorted(x), list_tuples))\n",
    "\n",
    "print(\"\\nSorted List of Tuples : \")\n",
    "print(sorted_tuples)"
   ]
  },
  {
   "cell_type": "markdown",
   "metadata": {
    "id": "lyGLS694QXiT"
   },
   "source": [
    "\n",
    "\n",
    "---\n",
    "\n"
   ]
  },
  {
   "cell_type": "markdown",
   "metadata": {
    "id": "yO_wJ02vg8Tw"
   },
   "source": [
    "**Write a Python program to square and cube every number in a given list of integers using Lambda with map.**"
   ]
  },
  {
   "cell_type": "code",
   "execution_count": 12,
   "metadata": {
    "colab": {
     "base_uri": "https://localhost:8080/",
     "height": 0
    },
    "executionInfo": {
     "elapsed": 8057,
     "status": "ok",
     "timestamp": 1728404002670,
     "user": {
      "displayName": "Chiku",
      "userId": "00734284376877800923"
     },
     "user_tz": -330
    },
    "id": "6Po3ogBDg8Bt",
    "outputId": "5adab731-20d6-4506-98a6-7a829e87a14b"
   },
   "outputs": [
    {
     "name": "stdout",
     "output_type": "stream",
     "text": [
      "Enter numbers in list (seperated by comma) : 2,3,10,15\n",
      "Square of numbers :  [4, 9, 100, 225]\n",
      "Cube of numbers :  [8, 27, 1000, 3375]\n"
     ]
    }
   ],
   "source": [
    "list_ip = [int(i) for i in input(\"Enter numbers in list (seperated by comma) : \").split(\",\")]\n",
    "\n",
    "square = list(map(lambda x:x**2, list_ip))\n",
    "cube = list(map(lambda x:x**3, list_ip))\n",
    "\n",
    "print(\"Square of numbers : \", square)\n",
    "print(\"Cube of numbers : \", cube)"
   ]
  },
  {
   "cell_type": "markdown",
   "metadata": {
    "id": "lp_5gg9GQhg5"
   },
   "source": [
    "\n",
    "\n",
    "---\n",
    "\n"
   ]
  },
  {
   "cell_type": "markdown",
   "metadata": {
    "id": "AwE_z8pYhCIk"
   },
   "source": [
    "**Write a Python program to add two given lists and find the difference between them. Use the map() function with function.**"
   ]
  },
  {
   "cell_type": "code",
   "execution_count": 14,
   "metadata": {
    "colab": {
     "base_uri": "https://localhost:8080/",
     "height": 0
    },
    "executionInfo": {
     "elapsed": 13077,
     "status": "ok",
     "timestamp": 1728404315006,
     "user": {
      "displayName": "Chiku",
      "userId": "00734284376877800923"
     },
     "user_tz": -330
    },
    "id": "7f3JojO4hBPc",
    "outputId": "b2ecafbc-dcb5-499d-fbea-86cff90180e3"
   },
   "outputs": [
    {
     "name": "stdout",
     "output_type": "stream",
     "text": [
      "Enter 5 numbers in list 1 (seperated by comma) : 1,2,3,4,5\n",
      "Enter 5 numbers in list 2 (seperated by comma) : 2,4,6,8,10\n",
      "\n",
      "Sum of both lists :  [3, 6, 9, 12, 15]\n",
      "\n",
      "Difference of both lists :  [-1, -2, -3, -4, -5]\n"
     ]
    }
   ],
   "source": [
    "list1 = [int(i) for i in input(\"Enter 5 numbers in list 1 (seperated by comma) : \").split(\",\")]\n",
    "list2 = [int(i) for i in input(\"Enter 5 numbers in list 2 (seperated by comma) : \").split(\",\")]\n",
    "\n",
    "def add(x,y):\n",
    "    return x+y\n",
    "\n",
    "def diff(x,y):\n",
    "    return x-y\n",
    "\n",
    "print(\"\\nSum of both lists : \", list(map(add, list1, list2)))\n",
    "print(\"\\nDifference of both lists : \", list(map(diff, list1, list2)))"
   ]
  },
  {
   "cell_type": "markdown",
   "metadata": {
    "id": "qaYBN6QRQ3UK"
   },
   "source": [
    "\n",
    "\n",
    "---\n",
    "\n"
   ]
  },
  {
   "cell_type": "markdown",
   "metadata": {
    "id": "8gdNx2gwhIi7"
   },
   "source": [
    "**Write a Python program that creates a list of dictionaries containing student information (name, age, grade) and uses the filter function to extract students with a grade greater than or equal to 95.**"
   ]
  },
  {
   "cell_type": "code",
   "execution_count": 20,
   "metadata": {
    "colab": {
     "base_uri": "https://localhost:8080/",
     "height": 0
    },
    "executionInfo": {
     "elapsed": 32753,
     "status": "ok",
     "timestamp": 1728405376921,
     "user": {
      "displayName": "Chiku",
      "userId": "00734284376877800923"
     },
     "user_tz": -330
    },
    "id": "ZCjCTEGlhINl",
    "outputId": "cc565f18-f8aa-44d0-842e-722af59e7ce5"
   },
   "outputs": [
    {
     "name": "stdout",
     "output_type": "stream",
     "text": [
      "Enter number of students : 3\n",
      "\n",
      "Enter name of student : ABC\n",
      "Enter age of student : 19\n",
      "Enter grade of student : 96\n",
      "\n",
      "Enter name of student : DEF\n",
      "Enter age of student : 20\n",
      "Enter grade of student : 92\n",
      "\n",
      "Enter name of student : GHI\n",
      "Enter age of student : 19\n",
      "Enter grade of student : 95\n",
      "\n",
      "List of Dictionaries : \n",
      "[{'Name': 'ABC', 'Age': 19, 'Grade': 96}, {'Name': 'DEF', 'Age': 20, 'Grade': 92}, {'Name': 'GHI', 'Age': 19, 'Grade': 95}]\n",
      "\n",
      "Students with grade greater than or equal to 95 : \n",
      "[{'Name': 'ABC', 'Age': 19, 'Grade': 96}, {'Name': 'GHI', 'Age': 19, 'Grade': 95}]\n"
     ]
    }
   ],
   "source": [
    "student_list = []\n",
    "student_data = {}\n",
    "for i in range(int(input(\"Enter number of students : \"))):\n",
    "    print()\n",
    "    name = input(\"Enter name of student : \")\n",
    "    age = int(input(\"Enter age of student : \"))\n",
    "    grade = int(input(\"Enter grade of student : \"))\n",
    "    student_data = {\"Name\":name, \"Age\":age, \"Grade\":grade}\n",
    "    student_list.append(student_data)\n",
    "\n",
    "print(\"\\nList of Dictionaries : \")\n",
    "print(student_list)\n",
    "\n",
    "print(\"\\nStudents with grade greater than or equal to 95 : \")\n",
    "print(list(filter(lambda x:x[\"Grade\"]>=95, student_list)))"
   ]
  },
  {
   "cell_type": "markdown",
   "metadata": {
    "id": "IQHvWW7rhPFz"
   },
   "source": [
    "\n",
    "\n",
    "---\n",
    "\n"
   ]
  },
  {
   "cell_type": "markdown",
   "metadata": {
    "id": "8jzsMjOhhP1z"
   },
   "source": [
    "**WAP to Calculate the product of the numbers from 1 to 100 using reduce function.**"
   ]
  },
  {
   "cell_type": "code",
   "execution_count": 19,
   "metadata": {
    "colab": {
     "base_uri": "https://localhost:8080/",
     "height": 0
    },
    "executionInfo": {
     "elapsed": 457,
     "status": "ok",
     "timestamp": 1728405312898,
     "user": {
      "displayName": "Chiku",
      "userId": "00734284376877800923"
     },
     "user_tz": -330
    },
    "id": "Qn2ykgfWhQP3",
    "outputId": "f1e43fb2-61bc-474a-ef65-842bc23dc559"
   },
   "outputs": [
    {
     "name": "stdout",
     "output_type": "stream",
     "text": [
      "Product of numbers from 1 to 100 :  93326215443944152681699238856266700490715968264381621468592963895217599993229915608941463976156518286253697920827223758251185210916864000000000000000000000000\n"
     ]
    }
   ],
   "source": [
    "from functools import reduce\n",
    "\n",
    "num_list = [i for i in range(1,101)]\n",
    "product = reduce(lambda x,y:x*y, num_list)\n",
    "\n",
    "print(\"Product of numbers from 1 to 100 : \", product)"
   ]
  }
 ],
 "metadata": {
  "colab": {
   "provenance": []
  },
  "kernelspec": {
   "display_name": "Python 3",
   "language": "python",
   "name": "python3"
  },
  "language_info": {
   "codemirror_mode": {
    "name": "ipython",
    "version": 3
   },
   "file_extension": ".py",
   "mimetype": "text/x-python",
   "name": "python",
   "nbconvert_exporter": "python",
   "pygments_lexer": "ipython3",
   "version": "3.7.4"
  }
 },
 "nbformat": 4,
 "nbformat_minor": 1
}
