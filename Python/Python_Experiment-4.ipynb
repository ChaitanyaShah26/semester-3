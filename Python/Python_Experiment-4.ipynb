{
 "cells": [
  {
   "cell_type": "markdown",
   "metadata": {
    "id": "yrjYfJvaXghS"
   },
   "source": [
    "<h1 style=\"text-align: center\">Experiment 4</h1>"
   ]
  },
  {
   "cell_type": "markdown",
   "metadata": {
    "id": "dNIxVFnsXjVG"
   },
   "source": [
    "\n",
    "\n",
    "---\n",
    "\n"
   ]
  },
  {
   "cell_type": "markdown",
   "metadata": {
    "id": "ZOqV6Z1ai_Dc"
   },
   "source": [
    "**WAP to print middle three characters of input string**"
   ]
  },
  {
   "cell_type": "code",
   "execution_count": null,
   "metadata": {
    "colab": {
     "base_uri": "https://localhost:8080/"
    },
    "executionInfo": {
     "elapsed": 4364,
     "status": "ok",
     "timestamp": 1725429340874,
     "user": {
      "displayName": "Chiku",
      "userId": "00734284376877800923"
     },
     "user_tz": -330
    },
    "id": "M9A69RXBV856",
    "outputId": "d0af5af9-193e-49f4-b1ae-a56f9f857ee1"
   },
   "outputs": [
    {
     "name": "stdout",
     "output_type": "stream",
     "text": [
      "Enter a string : madam\n",
      "madam\n",
      "ada\n"
     ]
    }
   ],
   "source": [
    "import math\n",
    "\n",
    "str=input(\"Enter a string : \")\n",
    "mid=len(str)/2\n",
    "print(str)\n",
    "if (mid%3 != 0):\n",
    "  mid=math.floor(len(str)/2)\n",
    "  print(str[mid-1:mid+2])\n",
    "else:\n",
    "  print(\"\\nString is of Even length....Three Middle characters not possible\")"
   ]
  },
  {
   "cell_type": "markdown",
   "metadata": {
    "id": "kgXfhIkAjsP7"
   },
   "source": [
    "\n",
    "\n",
    "---\n",
    "\n"
   ]
  },
  {
   "cell_type": "markdown",
   "metadata": {
    "id": "xGs-P50EjtX1"
   },
   "source": [
    "**Given two strings, ‘Rama’ and ‘Sita’. Write a program to create a new string by appending ‘Sita’ in the middle of the string “Rama”.**"
   ]
  },
  {
   "cell_type": "code",
   "execution_count": null,
   "metadata": {
    "colab": {
     "base_uri": "https://localhost:8080/"
    },
    "executionInfo": {
     "elapsed": 408,
     "status": "ok",
     "timestamp": 1725427360763,
     "user": {
      "displayName": "Chiku",
      "userId": "00734284376877800923"
     },
     "user_tz": -330
    },
    "id": "2uTrlhrdjtzB",
    "outputId": "cffe619a-c2ee-47a9-d2c8-711938b559c0"
   },
   "outputs": [
    {
     "name": "stdout",
     "output_type": "stream",
     "text": [
      "RaSitama\n"
     ]
    }
   ],
   "source": [
    "str1='Rama'\n",
    "str2='Sita'\n",
    "\n",
    "mid=int(len(str1)/2)\n",
    "str=str1[:mid]+str2+str1[mid:]\n",
    "print(str)"
   ]
  },
  {
   "cell_type": "markdown",
   "metadata": {
    "id": "sj0EJy82jujN"
   },
   "source": [
    "\n",
    "\n",
    "---\n",
    "\n"
   ]
  },
  {
   "cell_type": "markdown",
   "metadata": {
    "id": "H6ZrJi8ikIZd"
   },
   "source": [
    "**Arrange string characters such that lowercase letters should come first**\n"
   ]
  },
  {
   "cell_type": "code",
   "execution_count": null,
   "metadata": {
    "colab": {
     "base_uri": "https://localhost:8080/"
    },
    "executionInfo": {
     "elapsed": 30181,
     "status": "ok",
     "timestamp": 1725375526191,
     "user": {
      "displayName": "Chiku",
      "userId": "00734284376877800923"
     },
     "user_tz": -330
    },
    "id": "SxjNussWkSbe",
    "outputId": "3dddd0c0-329a-4b88-f10a-5de12c8b9063"
   },
   "outputs": [
    {
     "name": "stdout",
     "output_type": "stream",
     "text": [
      "Enter a String : aBcDeFgHiJkLmNoPqRsTuVwXyZ\n",
      "\n",
      "Arranged String is :\n",
      " acegikmoqsuwyBDFHJLNPRTVXZ\n"
     ]
    }
   ],
   "source": [
    "str=input(\"Enter a String : \")\n",
    "str_list=list(str)\n",
    "l=int(len(str))\n",
    "\n",
    "lower=''\n",
    "upper=''\n",
    "\n",
    "i=0\n",
    "while (l!=0):\n",
    "  if (str_list[i].islower()):\n",
    "    lower+=str_list[i]\n",
    "  else:\n",
    "    upper+=str_list[i]\n",
    "  i+=1\n",
    "  l-=1\n",
    "\n",
    "print(\"\\nArranged String is :\\n\",lower+upper)\n"
   ]
  },
  {
   "cell_type": "markdown",
   "metadata": {
    "id": "ev1zLdoXkR5P"
   },
   "source": [
    "\n",
    "\n",
    "---\n",
    "\n"
   ]
  },
  {
   "cell_type": "markdown",
   "metadata": {
    "id": "55lHNQmfkT38"
   },
   "source": [
    "**WAP to count occurences of all characters within a string**"
   ]
  },
  {
   "cell_type": "code",
   "execution_count": null,
   "metadata": {
    "colab": {
     "base_uri": "https://localhost:8080/"
    },
    "executionInfo": {
     "elapsed": 129208,
     "status": "ok",
     "timestamp": 1725377473644,
     "user": {
      "displayName": "Chiku",
      "userId": "00734284376877800923"
     },
     "user_tz": -330
    },
    "id": "tgmGmzCufkTA",
    "outputId": "aaad86db-a8a0-4087-90d8-1059db9973e7"
   },
   "outputs": [
    {
     "name": "stdout",
     "output_type": "stream",
     "text": [
      "Enter a string : Mississippi\n",
      "\n",
      "M appears 1 times\n",
      "i appears 4 times\n",
      "s appears 4 times\n",
      "p appears 2 times\n"
     ]
    }
   ],
   "source": [
    "str=input(\"Enter a string : \")\n",
    "\n",
    "char_count = {}\n",
    "\n",
    "for char in str:\n",
    "    if char in char_count:\n",
    "        char_count[char] += 1\n",
    "    else:\n",
    "        char_count[char] = 1\n",
    "print()\n",
    "for key, value in char_count.items():\n",
    "    print(\"{} appears {} times\".format(key,value))"
   ]
  },
  {
   "cell_type": "markdown",
   "metadata": {
    "id": "nrqbnoFTkbX-"
   },
   "source": [
    "\n",
    "\n",
    "---\n",
    "\n"
   ]
  },
  {
   "cell_type": "markdown",
   "metadata": {
    "id": "uqawI642kcIi"
   },
   "source": [
    "**Count all letters, digits, and special symbols from a given string**"
   ]
  },
  {
   "cell_type": "code",
   "execution_count": null,
   "metadata": {
    "colab": {
     "base_uri": "https://localhost:8080/"
    },
    "executionInfo": {
     "elapsed": 17711,
     "status": "ok",
     "timestamp": 1725377848541,
     "user": {
      "displayName": "Chiku",
      "userId": "00734284376877800923"
     },
     "user_tz": -330
    },
    "id": "Mggf4FZ5kjow",
    "outputId": "9cdfb429-9cab-411e-8970-060330435b46"
   },
   "outputs": [
    {
     "name": "stdout",
     "output_type": "stream",
     "text": [
      "Enter a string : A_xyz123@email.com\n",
      "\n",
      "Uppercase : 1\n",
      "Lowercase : 11\n",
      "Digits : 3\n",
      "Special Character : 3\n",
      "\n"
     ]
    }
   ],
   "source": [
    "str=input(\"Enter a string : \")\n",
    "\n",
    "upper=lower=num=spc=0\n",
    "\n",
    "for char in str:\n",
    "  if char.isupper():\n",
    "    upper+=1\n",
    "  elif char.islower():\n",
    "    lower+=1\n",
    "  elif char.isdigit():\n",
    "    num+=1\n",
    "  else:\n",
    "    spc+=1\n",
    "\n",
    "print(\"\\nUppercase : {}\\nLowercase : {}\\nDigits : {}\\nSpecial Character : {}\\n\".format(upper,lower,num,spc))"
   ]
  },
  {
   "cell_type": "markdown",
   "metadata": {
    "id": "ba7txCFCkmlq"
   },
   "source": [
    "\n",
    "\n",
    "---\n",
    "\n"
   ]
  },
  {
   "cell_type": "markdown",
   "metadata": {
    "id": "IQ50pb7Qknhz"
   },
   "source": [
    "**Write a program to find the last position of a substring “Rama” in a given string**"
   ]
  },
  {
   "cell_type": "code",
   "execution_count": 31,
   "metadata": {
    "colab": {
     "base_uri": "https://localhost:8080/"
    },
    "executionInfo": {
     "elapsed": 4202,
     "status": "ok",
     "timestamp": 1725431402763,
     "user": {
      "displayName": "Chiku",
      "userId": "00734284376877800923"
     },
     "user_tz": -330
    },
    "id": "MW1OJS23p_KA",
    "outputId": "9404151a-ea4c-4d62-ca0d-933539c548aa"
   },
   "outputs": [
    {
     "name": "stdout",
     "output_type": "stream",
     "text": [
      "Enter a string: Rama is Rama\n",
      "Last position of substring is: 8\n"
     ]
    }
   ],
   "source": [
    "string = input(\"Enter a string: \")\n",
    "substring = \"Rama\"\n",
    "\n",
    "last_position = -1\n",
    "index = 0\n",
    "\n",
    "while index < len(string):\n",
    "    if string[index: index + len(substring)] == substring:\n",
    "        last_position = index\n",
    "    index += 1\n",
    "\n",
    "if last_position != -1:\n",
    "    print(\"Last position of substring is:\", last_position)\n",
    "else:\n",
    "    print(\"Substring not found.\")"
   ]
  },
  {
   "cell_type": "markdown",
   "metadata": {
    "id": "nSUxJRjlk53c"
   },
   "source": [
    "\n",
    "\n",
    "---\n",
    "\n"
   ]
  },
  {
   "cell_type": "markdown",
   "metadata": {
    "id": "bIeNQVtYk7lg"
   },
   "source": [
    "**Calculate the sum and average of the digits present in a string**"
   ]
  },
  {
   "cell_type": "code",
   "execution_count": null,
   "metadata": {
    "colab": {
     "base_uri": "https://localhost:8080/"
    },
    "executionInfo": {
     "elapsed": 8972,
     "status": "ok",
     "timestamp": 1725378021354,
     "user": {
      "displayName": "Chiku",
      "userId": "00734284376877800923"
     },
     "user_tz": -330
    },
    "id": "o_8gHGOTlBWd",
    "outputId": "e8b773b2-1ab5-4e0d-be2e-22964968b926"
   },
   "outputs": [
    {
     "name": "stdout",
     "output_type": "stream",
     "text": [
      "Enter a number : 164582\n",
      "\n",
      "Sum : 26\n",
      "Average : 4.333333333333333\n"
     ]
    }
   ],
   "source": [
    "n=int(input(\"Enter a number : \"))\n",
    "\n",
    "sum=count=0\n",
    "\n",
    "while n!=0:\n",
    "  sum+=n%10\n",
    "  n=int(n/10)\n",
    "  count+=1\n",
    "\n",
    "print(\"\\nSum : {}\\nAverage : {}\".format(sum,sum/count))"
   ]
  },
  {
   "cell_type": "markdown",
   "metadata": {
    "id": "ftWnLNl5lByS"
   },
   "source": [
    "\n",
    "\n",
    "---\n",
    "\n"
   ]
  },
  {
   "cell_type": "markdown",
   "metadata": {
    "id": "ghL-CIN-lCYG"
   },
   "source": [
    "**WAP to remove all characters from a string except integers**"
   ]
  },
  {
   "cell_type": "code",
   "execution_count": null,
   "metadata": {
    "colab": {
     "base_uri": "https://localhost:8080/"
    },
    "executionInfo": {
     "elapsed": 15728,
     "status": "ok",
     "timestamp": 1725378175913,
     "user": {
      "displayName": "Chiku",
      "userId": "00734284376877800923"
     },
     "user_tz": -330
    },
    "id": "j3XNIe3jlK_m",
    "outputId": "96092e2d-f9bd-44cb-d881-cb076de57d51"
   },
   "outputs": [
    {
     "name": "stdout",
     "output_type": "stream",
     "text": [
      "Enter a string : Python3\n",
      "\n",
      "String after removing all characters except integers : 3\n"
     ]
    }
   ],
   "source": [
    "str=input(\"Enter a string : \")\n",
    "\n",
    "numStr=''\n",
    "for char in str:\n",
    "  if char.isdigit():\n",
    "    numStr+=char\n",
    "\n",
    "print(\"\\nString after removing all characters except integers : \"+numStr)"
   ]
  },
  {
   "cell_type": "markdown",
   "metadata": {
    "id": "RWkIRx9wlLZ6"
   },
   "source": [
    "\n",
    "\n",
    "---\n",
    "\n"
   ]
  },
  {
   "cell_type": "markdown",
   "metadata": {
    "id": "ZTvgJecHlL9T"
   },
   "source": [
    "**WAP to replace each special symbol with # in the given string**"
   ]
  },
  {
   "cell_type": "code",
   "execution_count": null,
   "metadata": {
    "colab": {
     "base_uri": "https://localhost:8080/"
    },
    "executionInfo": {
     "elapsed": 17774,
     "status": "ok",
     "timestamp": 1725378270903,
     "user": {
      "displayName": "Chiku",
      "userId": "00734284376877800923"
     },
     "user_tz": -330
    },
    "id": "tobJVVjxlUsA",
    "outputId": "f1be5d97-d66d-41d4-f0e6-209c2c3ee294"
   },
   "outputs": [
    {
     "name": "stdout",
     "output_type": "stream",
     "text": [
      "Enter a string : a@b$c%d^e12&34\n",
      "\n",
      "String after replacing each special symbol with # : a#b#c#d#e12#34\n"
     ]
    }
   ],
   "source": [
    "str=input(\"Enter a string : \")\n",
    "\n",
    "for char in str:\n",
    "  if not char.isalnum():\n",
    "    str=str.replace(char,'#')\n",
    "\n",
    "print(\"\\nString after replacing each special symbol with # : \"+str)"
   ]
  },
  {
   "cell_type": "markdown",
   "metadata": {
    "id": "WT3esz7dhUaY"
   },
   "source": [
    "## Sample Codes for Experiment 4"
   ]
  },
  {
   "cell_type": "code",
   "execution_count": null,
   "metadata": {
    "colab": {
     "base_uri": "https://localhost:8080/"
    },
    "executionInfo": {
     "elapsed": 418,
     "status": "ok",
     "timestamp": 1725428106193,
     "user": {
      "displayName": "Chiku",
      "userId": "00734284376877800923"
     },
     "user_tz": -330
    },
    "id": "N6HpXUkGhZnw",
    "outputId": "de270e41-b0ce-45a6-c881-8be74a3a3bac"
   },
   "outputs": [
    {
     "name": "stdout",
     "output_type": "stream",
     "text": [
      "String with the use of Single Quotes: \n",
      "Welcome to the Geeks World\n",
      "\n",
      "String with the use of Double Quotes: \n",
      "I'm a Geek\n",
      "\n",
      "String with the use of Triple Quotes: \n",
      "I'm a Geek and I live in a world of \"Geeks\"\n",
      "\n",
      "Creating a multiline String: \n",
      "Geeks\n",
      "            For\n",
      "            Life\n"
     ]
    }
   ],
   "source": [
    "String1 = 'Welcome to the Geeks World'\n",
    "print(\"String with the use of Single Quotes: \")\n",
    "print(String1)\n",
    "\n",
    "# Creating a String\n",
    "# with double Quotes\n",
    "String1 = \"I'm a Geek\"\n",
    "print(\"\\nString with the use of Double Quotes: \")\n",
    "print(String1)\n",
    "\n",
    "# Creating a String\n",
    "# with triple Quotes\n",
    "String1 = '''I'm a Geek and I live in a world of \"Geeks\"'''\n",
    "print(\"\\nString with the use of Triple Quotes: \")\n",
    "print(String1)\n",
    "\n",
    "# Creating String with triple\n",
    "# Quotes allows multiple lines\n",
    "String1 = '''Geeks\n",
    "            For\n",
    "            Life'''\n",
    "print(\"\\nCreating a multiline String: \")\n",
    "print(String1)"
   ]
  },
  {
   "cell_type": "code",
   "execution_count": null,
   "metadata": {
    "colab": {
     "base_uri": "https://localhost:8080/"
    },
    "executionInfo": {
     "elapsed": 395,
     "status": "ok",
     "timestamp": 1725428179642,
     "user": {
      "displayName": "Chiku",
      "userId": "00734284376877800923"
     },
     "user_tz": -330
    },
    "id": "62ctV3xqh3-e",
    "outputId": "4b2ba000-0f9b-4fb2-874d-f772c5e5f6f1"
   },
   "outputs": [
    {
     "name": "stdout",
     "output_type": "stream",
     "text": [
      "Initial String: \n",
      "GeeksForGeeks\n",
      "\n",
      "First character of String is: \n",
      "G\n",
      "\n",
      "Last character of String is: \n",
      "s\n"
     ]
    }
   ],
   "source": [
    "String1 = \"GeeksForGeeks\"\n",
    "print(\"Initial String: \")\n",
    "print(String1)\n",
    "\n",
    "# Printing First character\n",
    "print(\"\\nFirst character of String is: \")\n",
    "print(String1[0])\n",
    "\n",
    "# Printing Last character\n",
    "print(\"\\nLast character of String is: \")\n",
    "print(String1[-1])"
   ]
  },
  {
   "cell_type": "code",
   "execution_count": null,
   "metadata": {
    "colab": {
     "base_uri": "https://localhost:8080/"
    },
    "executionInfo": {
     "elapsed": 413,
     "status": "ok",
     "timestamp": 1725428219626,
     "user": {
      "displayName": "Chiku",
      "userId": "00734284376877800923"
     },
     "user_tz": -330
    },
    "id": "OnF7x2y7iJ6d",
    "outputId": "3362535c-045c-43fd-da8f-3b03759b200d"
   },
   "outputs": [
    {
     "name": "stdout",
     "output_type": "stream",
     "text": [
      "Hello, students\n"
     ]
    }
   ],
   "source": [
    "# Join Two or More Strings\n",
    "\n",
    "message1 = \"Hello, \"\n",
    "message2 = \"students\"\n",
    " # using + operator\n",
    "result = message1 + message2\n",
    "print(result)"
   ]
  },
  {
   "cell_type": "code",
   "execution_count": null,
   "metadata": {
    "colab": {
     "base_uri": "https://localhost:8080/"
    },
    "executionInfo": {
     "elapsed": 378,
     "status": "ok",
     "timestamp": 1725428330519,
     "user": {
      "displayName": "Chiku",
      "userId": "00734284376877800923"
     },
     "user_tz": -330
    },
    "id": "eUkbRAwJiTrN",
    "outputId": "3942ac3e-69ef-4e0a-b050-8ad9e3f223b3"
   },
   "outputs": [
    {
     "name": "stdout",
     "output_type": "stream",
     "text": [
      "String slicing\n",
      "AST\n",
      "SR\n",
      "GITA\n"
     ]
    }
   ],
   "source": [
    "# String slicing\n",
    "\n",
    "String = 'ASTRING'\n",
    " # Using slice constructor\n",
    "s1 = slice(3)\n",
    "s2 = slice(1, 5, 2)\n",
    "s3 = slice(-1, -12, -2)\n",
    "print(\"String slicing\")\n",
    "print(String[s1])\n",
    "print(String[s2])\n",
    "print(String[s3])"
   ]
  },
  {
   "cell_type": "code",
   "execution_count": null,
   "metadata": {
    "colab": {
     "base_uri": "https://localhost:8080/"
    },
    "executionInfo": {
     "elapsed": 414,
     "status": "ok",
     "timestamp": 1725428341271,
     "user": {
      "displayName": "Chiku",
      "userId": "00734284376877800923"
     },
     "user_tz": -330
    },
    "id": "a7WD71meiuv9",
    "outputId": "0afd8a60-db1a-4315-e5f2-39f9a4a86746"
   },
   "outputs": [
    {
     "name": "stdout",
     "output_type": "stream",
     "text": [
      "Initial String: \n",
      "GeeksForGeeks\n",
      "\n",
      "Slicing characters from 3-12: \n",
      "ksForGeek\n",
      "\n",
      "Slicing characters between 3rd and 2nd last character: \n",
      "ksForGee\n"
     ]
    }
   ],
   "source": [
    "String1 = \"GeeksForGeeks\"\n",
    "print(\"Initial String: \")\n",
    "print(String1)\n",
    " # Printing 3rd to 12th character\n",
    "print(\"\\nSlicing characters from 3-12: \")\n",
    "print(String1[3:12])\n",
    " # Printing characters between\n",
    "# 3rd and 2nd last character\n",
    "print(\"\\nSlicing characters between \" +\n",
    "      \"3rd and 2nd last character: \")\n",
    "print(String1[3:-2])"
   ]
  },
  {
   "cell_type": "code",
   "execution_count": null,
   "metadata": {
    "colab": {
     "base_uri": "https://localhost:8080/"
    },
    "executionInfo": {
     "elapsed": 378,
     "status": "ok",
     "timestamp": 1725428395255,
     "user": {
      "displayName": "Chiku",
      "userId": "00734284376877800923"
     },
     "user_tz": -330
    },
    "id": "y8q41FnkixXs",
    "outputId": "a0881e46-09af-48b3-dcdf-278171a8ed76"
   },
   "outputs": [
    {
     "name": "stdout",
     "output_type": "stream",
     "text": [
      "skeegrofskeeg\n"
     ]
    }
   ],
   "source": [
    "#Reverse a string\n",
    "\n",
    "gfg = \"geeksforgeeks\"\n",
    "print(gfg[::-1])"
   ]
  },
  {
   "cell_type": "code",
   "execution_count": null,
   "metadata": {
    "colab": {
     "base_uri": "https://localhost:8080/"
    },
    "executionInfo": {
     "elapsed": 406,
     "status": "ok",
     "timestamp": 1725428429316,
     "user": {
      "displayName": "Chiku",
      "userId": "00734284376877800923"
     },
     "user_tz": -330
    },
    "id": "xEMvTLfni-j9",
    "outputId": "5d042eb3-1908-4edb-c392-51358ab5c0d1"
   },
   "outputs": [
    {
     "name": "stdout",
     "output_type": "stream",
     "text": [
      "False\n",
      "True\n"
     ]
    }
   ],
   "source": [
    "str1 = \"Hello, world!\"\n",
    "str2 = \"I love Python.\"\n",
    "str3 = \"Hello, world!\"\n",
    "\n",
    "# compare str1 and str2\n",
    "print(str1 == str2)\n",
    "\n",
    "# compare str1 and str3\n",
    "print(str1 == str3)"
   ]
  },
  {
   "cell_type": "code",
   "execution_count": null,
   "metadata": {
    "colab": {
     "base_uri": "https://localhost:8080/"
    },
    "executionInfo": {
     "elapsed": 395,
     "status": "ok",
     "timestamp": 1725428436235,
     "user": {
      "displayName": "Chiku",
      "userId": "00734284376877800923"
     },
     "user_tz": -330
    },
    "id": "FIMT0IF7jG31",
    "outputId": "c18eacad-08dd-434e-dc26-0cf0dba0687d"
   },
   "outputs": [
    {
     "name": "stdout",
     "output_type": "stream",
     "text": [
      "5\n"
     ]
    }
   ],
   "source": [
    "greet = 'Hello'\n",
    "\n",
    "# count length of greet string\n",
    "print(len(greet))\n"
   ]
  },
  {
   "cell_type": "code",
   "execution_count": null,
   "metadata": {
    "colab": {
     "base_uri": "https://localhost:8080/"
    },
    "executionInfo": {
     "elapsed": 387,
     "status": "ok",
     "timestamp": 1725428468246,
     "user": {
      "displayName": "Chiku",
      "userId": "00734284376877800923"
     },
     "user_tz": -330
    },
    "id": "t-ImccuCjIj9",
    "outputId": "c9756fb2-af87-4b62-d1b4-a5f857e4d967"
   },
   "outputs": [
    {
     "name": "stdout",
     "output_type": "stream",
     "text": [
      "My name is John, and I am 36\n"
     ]
    }
   ],
   "source": [
    "#Format Method\n",
    "\n",
    "age = 36\n",
    "txt = \"My name is John, and I am {}\"\n",
    "print(txt.format(age))"
   ]
  },
  {
   "cell_type": "markdown",
   "metadata": {
    "id": "hKuQKIXejZ8m"
   },
   "source": [
    "Methods"
   ]
  },
  {
   "cell_type": "code",
   "execution_count": null,
   "metadata": {
    "colab": {
     "base_uri": "https://localhost:8080/"
    },
    "executionInfo": {
     "elapsed": 443,
     "status": "ok",
     "timestamp": 1725428479638,
     "user": {
      "displayName": "Chiku",
      "userId": "00734284376877800923"
     },
     "user_tz": -330
    },
    "id": "4rJ8E7FvjQX9",
    "outputId": "db171262-4215-4011-d791-7fa3ab41e032"
   },
   "outputs": [
    {
     "name": "stdout",
     "output_type": "stream",
     "text": [
      "HELLO, WORLD!\n",
      "hello, world!\n",
      "Jello, World!\n"
     ]
    }
   ],
   "source": [
    "a =\"Hello, World!\"\n",
    "print(a.upper())\n",
    "\n",
    "a = \"Hello, World!\"\n",
    "print(a.lower())\n",
    "\n",
    "a = \"Hello, World!\"\n",
    "print(a.replace(\"H\", \"J\"))\n"
   ]
  },
  {
   "cell_type": "markdown",
   "metadata": {
    "id": "VLaysugJjYVM"
   },
   "source": [
    "Escape Sequences"
   ]
  },
  {
   "cell_type": "code",
   "execution_count": null,
   "metadata": {
    "colab": {
     "base_uri": "https://localhost:8080/"
    },
    "executionInfo": {
     "elapsed": 578,
     "status": "ok",
     "timestamp": 1725428493559,
     "user": {
      "displayName": "Chiku",
      "userId": "00734284376877800923"
     },
     "user_tz": -330
    },
    "id": "5EYlxV2sjTI1",
    "outputId": "d19f0729-dfb9-415b-98a2-db3e961ae2f8"
   },
   "outputs": [
    {
     "name": "stdout",
     "output_type": "stream",
     "text": [
      "He said, \"What's there?\"\n"
     ]
    }
   ],
   "source": [
    "# escape double quotes\n",
    "example = \"He said, \\\"What's there?\\\"\"\n",
    "\n",
    "# escape single quotes\n",
    "example = 'He said, \"What\\'s there?\"'\n",
    "\n",
    "print(example)\n"
   ]
  }
 ],
 "metadata": {
  "colab": {
   "authorship_tag": "ABX9TyMlj/tdFWVyTSLxWPQ4m7PH",
   "provenance": []
  },
  "kernelspec": {
   "display_name": "Python 3",
   "language": "python",
   "name": "python3"
  },
  "language_info": {
   "codemirror_mode": {
    "name": "ipython",
    "version": 3
   },
   "file_extension": ".py",
   "mimetype": "text/x-python",
   "name": "python",
   "nbconvert_exporter": "python",
   "pygments_lexer": "ipython3",
   "version": "3.7.4"
  }
 },
 "nbformat": 4,
 "nbformat_minor": 1
}
