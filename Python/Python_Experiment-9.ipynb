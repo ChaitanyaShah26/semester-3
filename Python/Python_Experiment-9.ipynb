{
 "cells": [
  {
   "cell_type": "markdown",
   "metadata": {
    "id": "MR80_7iHGmok"
   },
   "source": [
    "<h1 style=\"text-align: center\">Experiment 9</h1>"
   ]
  },
  {
   "cell_type": "markdown",
   "metadata": {
    "id": "MnauWV9XG-Gu"
   },
   "source": [
    "\n",
    "\n",
    "---\n",
    "\n"
   ]
  },
  {
   "cell_type": "markdown",
   "metadata": {
    "id": "2ffwzDdSg5UW"
   },
   "source": [
    "**Create a BankAccount class that allows you to deposit, withdraw, and check the balance of an account.**"
   ]
  },
  {
   "cell_type": "code",
   "execution_count": null,
   "metadata": {
    "colab": {
     "base_uri": "https://localhost:8080/"
    },
    "executionInfo": {
     "elapsed": 28282,
     "status": "ok",
     "timestamp": 1728452668662,
     "user": {
      "displayName": "Chiku",
      "userId": "00734284376877800923"
     },
     "user_tz": -330
    },
    "id": "QQg8a71Qg46g",
    "outputId": "6f79551f-114c-48b1-8580-59a6e43cf8d9"
   },
   "outputs": [
    {
     "name": "stdout",
     "output_type": "stream",
     "text": [
      "Choose Option : \n",
      "1.Deposit\n",
      "2.Withdraw\n",
      "3.Check Balance\n",
      "0. EXIT\n",
      "Enter your choice: 1\n",
      "Enter amount to deposit: 5000\n",
      "\n",
      "Before Deposit balance is:  0\n",
      "After Deposit balance is:  5000\n",
      "Enter your choice: 2\n",
      "Enter amount to withdraw: 200\n",
      "\n",
      "Amount to withdraw:  200\n",
      "Before Withdrawal balance is:  5000\n",
      "After Withdrawal balance is:  4800\n",
      "Enter your choice: 3\n",
      "\n",
      "Current balance is: 4800\n",
      "Enter your choice: 0\n"
     ]
    }
   ],
   "source": [
    "class BankAccount():\n",
    "    bal = 0\n",
    "    def deposit(self):\n",
    "        amount = int(input(\"Enter amount to deposit: \"))\n",
    "        print(\"\\nBefore Deposit balance is: \", BankAccount.bal)\n",
    "        BankAccount.bal = BankAccount.bal+ amount\n",
    "        print(\"After Deposit balance is: \", BankAccount.bal)\n",
    "\n",
    "    def withdraw(self):\n",
    "        wdr_amt = int(input(\"Enter amount to withdraw: \"))\n",
    "        print(\"\\nAmount to withdraw: \", wdr_amt)\n",
    "        print(\"Before Withdrawal balance is: \", BankAccount.bal)\n",
    "        if wdr_amt < BankAccount.bal:\n",
    "            BankAccount.bal = BankAccount.bal - wdr_amt\n",
    "            print(\"After Withdrawal balance is: \", BankAccount.bal)\n",
    "        else:\n",
    "            print(\"Less amount\")\n",
    "\n",
    "    def check_bal(self):\n",
    "        print(\"\\nCurrent balance is:\", BankAccount.bal)\n",
    "\n",
    "print(\"Choose Option : \\n1.Deposit\\n2.Withdraw\\n3.Check Balance\\n0. EXIT\")\n",
    "choice = int(input(\"Enter your choice: \"))\n",
    "\n",
    "while(choice!=0):\n",
    "    u1 = BankAccount()\n",
    "    if (choice == 1):\n",
    "        u1.deposit()\n",
    "    if (choice == 2):\n",
    "        u1.withdraw()\n",
    "    if (choice == 3):\n",
    "        u1.check_bal()\n",
    "    choice = int(input(\"Enter your choice: \"))"
   ]
  },
  {
   "cell_type": "markdown",
   "metadata": {
    "id": "lyGLS694QXiT"
   },
   "source": [
    "\n",
    "\n",
    "---\n",
    "\n"
   ]
  },
  {
   "cell_type": "markdown",
   "metadata": {
    "id": "yO_wJ02vg8Tw"
   },
   "source": [
    "**Create an Employee class with the following characteristics:\n",
    "<br>\n",
    "A constructor (__init__) that initializes the attributes (employee_id, first_name, last_name, email, and salary) when an object is created.\n",
    "<br> A method called display_employee_details that prints the employee's details in a well-formatted manner. Create several instances of the Employee class, each representing different employees in a company.\n",
    "<br> Calculate and print the average salary of all employees. Add a class variable called employee_count to keep track of the number of employee objects created. Update this variable within the constructor.\n",
    "<br> Create a class method called get_employee_count that returns the total number of employees**"
   ]
  },
  {
   "cell_type": "code",
   "execution_count": 20,
   "metadata": {
    "colab": {
     "base_uri": "https://localhost:8080/"
    },
    "executionInfo": {
     "elapsed": 870,
     "status": "ok",
     "timestamp": 1728456243256,
     "user": {
      "displayName": "Chiku",
      "userId": "00734284376877800923"
     },
     "user_tz": -330
    },
    "id": "3yKtgU_V3nRQ",
    "outputId": "9b5f9800-aaf4-4d69-ca72-54cf1f1702fc"
   },
   "outputs": [
    {
     "name": "stdout",
     "output_type": "stream",
     "text": [
      "Employee ID: 1\n",
      "First Name: Chaitanya\n",
      "Last Name: Shah\n",
      "Email: chaitanya.shah@example.com\n",
      "Salary: 100000\n",
      "--------------------\n",
      "Employee ID: 2\n",
      "First Name: Krisha\n",
      "Last Name: Shah\n",
      "Email: krisha.shah@example.com\n",
      "Salary: 60000\n",
      "--------------------\n",
      "Employee ID: 3\n",
      "First Name: Komal\n",
      "Last Name: Kasat\n",
      "Email: komal.kasat@example.com\n",
      "Salary: 50000\n",
      "--------------------\n",
      "Employee ID: 4\n",
      "First Name: Dev\n",
      "Last Name: Mittal\n",
      "Email: dev.mittal@example.com\n",
      "Salary: 80000\n",
      "--------------------\n",
      "Average Salary: 52500.0\n",
      "Total Employees: 4\n"
     ]
    }
   ],
   "source": [
    "class Employee:\n",
    "    employee_count = 0\n",
    "\n",
    "    def __init__(self, employee_id, first_name, last_name, email, salary):\n",
    "        self.employee_id = employee_id\n",
    "        self.first_name = first_name\n",
    "        self.last_name = last_name\n",
    "        self.email = email\n",
    "        self.salary = salary\n",
    "        Employee.employee_count += 1\n",
    "\n",
    "    def display_employee_details(self):\n",
    "        print(f\"Employee ID: {self.employee_id}\")\n",
    "        print(f\"First Name: {self.first_name}\")\n",
    "        print(f\"Last Name: {self.last_name}\")\n",
    "        print(f\"Email: {self.email}\")\n",
    "        print(f\"Salary: {self.salary}\")\n",
    "        print(\"-\" * 20)\n",
    "\n",
    "    def get_employee_count():\n",
    "        return Employee.employee_count\n",
    "\n",
    "\n",
    "\n",
    "employee1 = Employee(1, \"Chaitanya\", \"Shah\", \"chaitanya.shah@example.com\", 100000)\n",
    "employee2 = Employee(2, \"Krisha\", \"Shah\", \"krisha.shah@example.com\", 60000)\n",
    "employee3 = Employee(3, \"Komal\", \"Kasat\", \"komal.kasat@example.com\", 50000)\n",
    "employee4 = Employee(4, \"Dev\", \"Mittal\", \"dev.mittal@example.com\", 80000)\n",
    "\n",
    "employee1.display_employee_details()\n",
    "employee2.display_employee_details()\n",
    "employee3.display_employee_details()\n",
    "employee4.display_employee_details()\n",
    "\n",
    "\n",
    "total_salary = employee1.salary + employee2.salary + employee3.salary\n",
    "average_salary = total_salary / Employee.employee_count\n",
    "print(f\"Average Salary: {average_salary}\")\n",
    "\n",
    "\n",
    "total_employees = Employee.get_employee_count()\n",
    "print(f\"Total Employees: {total_employees}\")"
   ]
  },
  {
   "cell_type": "markdown",
   "metadata": {
    "id": "lp_5gg9GQhg5"
   },
   "source": [
    "\n",
    "\n",
    "---\n",
    "\n"
   ]
  },
  {
   "cell_type": "markdown",
   "metadata": {
    "id": "AwE_z8pYhCIk"
   },
   "source": [
    "**Create a Python class called Product that represents products in an inventory. Use a static variable called total_products to keep track of the total number of product instances created. Implement a static method to retrieve the total count.**"
   ]
  },
  {
   "cell_type": "code",
   "execution_count": null,
   "metadata": {
    "colab": {
     "base_uri": "https://localhost:8080/"
    },
    "executionInfo": {
     "elapsed": 427,
     "status": "ok",
     "timestamp": 1728454214020,
     "user": {
      "displayName": "Chiku",
      "userId": "00734284376877800923"
     },
     "user_tz": -330
    },
    "id": "7f3JojO4hBPc",
    "outputId": "fedcec86-bd95-46da-973a-1e6af1b6d7bd"
   },
   "outputs": [
    {
     "name": "stdout",
     "output_type": "stream",
     "text": [
      "Total products: 2\n"
     ]
    }
   ],
   "source": [
    "class Product:\n",
    "    total_products = 0\n",
    "\n",
    "    def __init__(self, name, price, quantity):\n",
    "        self.name = name\n",
    "        self.price = price\n",
    "        self.quantity = quantity\n",
    "        Product.total_products += 1\n",
    "\n",
    "    def get_total_products():\n",
    "        return Product.total_products\n",
    "\n",
    "product1 = Product(\"Shirt\", 25, 100)\n",
    "product2 = Product(\"Pants\", 50, 50)\n",
    "\n",
    "total_count = Product.get_total_products()\n",
    "print(f\"Total products: {total_count}\")"
   ]
  },
  {
   "cell_type": "markdown",
   "metadata": {
    "id": "qaYBN6QRQ3UK"
   },
   "source": [
    "\n",
    "\n",
    "---\n",
    "\n"
   ]
  },
  {
   "cell_type": "markdown",
   "metadata": {
    "id": "8gdNx2gwhIi7"
   },
   "source": [
    "**Create a Library class that manages a catalog of books. Use an inner class called Book to represent individual books with attributes like title, author, and ISBN. The Library class should have methods for adding books, searching for books by title and displaying the book catalog.**"
   ]
  },
  {
   "cell_type": "code",
   "execution_count": null,
   "metadata": {
    "colab": {
     "base_uri": "https://localhost:8080/"
    },
    "executionInfo": {
     "elapsed": 452,
     "status": "ok",
     "timestamp": 1728454462197,
     "user": {
      "displayName": "Chiku",
      "userId": "00734284376877800923"
     },
     "user_tz": -330
    },
    "id": "ZCjCTEGlhINl",
    "outputId": "a11d7966-01d1-4514-cb0c-82430dfc26e3"
   },
   "outputs": [
    {
     "name": "stdout",
     "output_type": "stream",
     "text": [
      "Book found: Title: Da Vinci Code, Author: Dan Brown, ISBN: 9745-5484\n",
      "\n",
      "Library Catalog:\n",
      "Title: Da Vinci Code, Author: Dan Brown, ISBN: 9745-5484\n",
      "Title: Pride & Prejudice, Author: Jane Austen, ISBN: 9712-5641\n"
     ]
    }
   ],
   "source": [
    "class Library:\n",
    "    def __init__(self):\n",
    "        self.catalog = []\n",
    "\n",
    "    class Book:\n",
    "        def __init__(self, title, author, isbn):\n",
    "            self.title = title\n",
    "            self.author = author\n",
    "            self.isbn = isbn\n",
    "\n",
    "        def __str__(self):\n",
    "            return f\"Title: {self.title}, Author: {self.author}, ISBN: {self.isbn}\"\n",
    "\n",
    "    def add_book(self, title, author, isbn):\n",
    "        book = self.Book(title, author, isbn)\n",
    "        self.catalog.append(book)\n",
    "\n",
    "    def search_book(self, title):\n",
    "        for book in self.catalog:\n",
    "            if book.title == title:\n",
    "                return book\n",
    "        return None  # Book not found\n",
    "\n",
    "    def display_catalog(self):\n",
    "        for book in self.catalog:\n",
    "            print(book)\n",
    "\n",
    "\n",
    "my_library = Library()\n",
    "\n",
    "\n",
    "my_library.add_book(\"Da Vinci Code\", \"Dan Brown\", \"9745-5484\")\n",
    "my_library.add_book(\"Pride & Prejudice\", \"Jane Austen\", \"9712-5641\")\n",
    "\n",
    "\n",
    "book = my_library.search_book(\"Da Vinci Code\")\n",
    "if book:\n",
    "    print(\"Book found:\", book)\n",
    "else:\n",
    "    print(\"Book not found.\")\n",
    "\n",
    "\n",
    "print(\"\\nLibrary Catalog:\")\n",
    "my_library.display_catalog()"
   ]
  },
  {
   "cell_type": "markdown",
   "metadata": {
    "id": "IQHvWW7rhPFz"
   },
   "source": [
    "\n",
    "\n",
    "---\n",
    "\n"
   ]
  },
  {
   "cell_type": "markdown",
   "metadata": {
    "id": "8jzsMjOhhP1z"
   },
   "source": [
    "**Implement a polymorphic behavior by creating a base class Shape with a method area. Derive subclasses like Circle, Rectangle, and Triangle, each with its implementation of the area method. Demonstrate polymorphism by calculating and printing the areas of different shapes**"
   ]
  },
  {
   "cell_type": "code",
   "execution_count": null,
   "metadata": {
    "colab": {
     "base_uri": "https://localhost:8080/"
    },
    "executionInfo": {
     "elapsed": 468,
     "status": "ok",
     "timestamp": 1728454504802,
     "user": {
      "displayName": "Chiku",
      "userId": "00734284376877800923"
     },
     "user_tz": -330
    },
    "id": "Qn2ykgfWhQP3",
    "outputId": "fcf31e8d-9c0d-4070-9118-92d1b81eedfb"
   },
   "outputs": [
    {
     "name": "stdout",
     "output_type": "stream",
     "text": [
      "Area of Circle: 78.53981633974483\n",
      "Area of Rectangle: 24\n",
      "Area of Triangle: 12.0\n"
     ]
    }
   ],
   "source": [
    "import math\n",
    "\n",
    "class Shape:\n",
    "    def area(self):\n",
    "        pass\n",
    "\n",
    "class Circle(Shape):\n",
    "    def __init__(self, radius):\n",
    "        self.radius = radius\n",
    "\n",
    "    def area(self):\n",
    "        return math.pi * self.radius**2\n",
    "\n",
    "class Rectangle(Shape):\n",
    "    def __init__(self, length, width):\n",
    "        self.length = length\n",
    "        self.width = width\n",
    "\n",
    "    def area(self):\n",
    "        return self.length * self.width\n",
    "\n",
    "class Triangle(Shape):\n",
    "    def __init__(self, base, height):\n",
    "        self.base = base\n",
    "        self.height = height\n",
    "\n",
    "    def area(self):\n",
    "        return 0.5 * self.base * self.height\n",
    "\n",
    "\n",
    "circle = Circle(5)\n",
    "rectangle = Rectangle(4, 6)\n",
    "triangle = Triangle(3, 8)\n",
    "\n",
    "\n",
    "shapes = [circle, rectangle, triangle]\n",
    "for shape in shapes:\n",
    "    print(f\"Area of {type(shape).__name__}: {shape.area()}\")"
   ]
  }
 ],
 "metadata": {
  "colab": {
   "provenance": []
  },
  "kernelspec": {
   "display_name": "Python 3",
   "language": "python",
   "name": "python3"
  },
  "language_info": {
   "codemirror_mode": {
    "name": "ipython",
    "version": 3
   },
   "file_extension": ".py",
   "mimetype": "text/x-python",
   "name": "python",
   "nbconvert_exporter": "python",
   "pygments_lexer": "ipython3",
   "version": "3.7.4"
  }
 },
 "nbformat": 4,
 "nbformat_minor": 1
}
