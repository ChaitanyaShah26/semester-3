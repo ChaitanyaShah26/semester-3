{
 "cells": [
  {
   "cell_type": "markdown",
   "id": "355124e2",
   "metadata": {},
   "source": [
    "# DBT Experiment 9\n",
    "**ETL (Extract Transform Load)**"
   ]
  },
  {
   "cell_type": "code",
   "execution_count": 1,
   "id": "7220ca51",
   "metadata": {},
   "outputs": [
    {
     "name": "stdout",
     "output_type": "stream",
     "text": [
      "Defaulting to user installation because normal site-packages is not writeable\n",
      "Requirement already satisfied: mysql-connector-python in c:\\users\\djsce.student\\appdata\\roaming\\python\\python311\\site-packages (9.1.0)\n"
     ]
    }
   ],
   "source": [
    "!pip install mysql-connector-python"
   ]
  },
  {
   "cell_type": "code",
   "execution_count": 2,
   "id": "20e0645c",
   "metadata": {},
   "outputs": [],
   "source": [
    "import mysql.connector\n",
    "import pandas as pd"
   ]
  },
  {
   "cell_type": "markdown",
   "id": "a24cae8c",
   "metadata": {},
   "source": [
    "__*Extract :*__"
   ]
  },
  {
   "cell_type": "code",
   "execution_count": 3,
   "id": "3b908483",
   "metadata": {},
   "outputs": [],
   "source": [
    "conn = mysql.connector.connect(user='root',password='pass@123',host='localhost',database='Experiment9')\n",
    "cursor=conn.cursor()"
   ]
  },
  {
   "cell_type": "code",
   "execution_count": 4,
   "id": "ff9e6f19",
   "metadata": {},
   "outputs": [
    {
     "data": {
      "text/html": [
       "<div>\n",
       "<style scoped>\n",
       "    .dataframe tbody tr th:only-of-type {\n",
       "        vertical-align: middle;\n",
       "    }\n",
       "\n",
       "    .dataframe tbody tr th {\n",
       "        vertical-align: top;\n",
       "    }\n",
       "\n",
       "    .dataframe thead th {\n",
       "        text-align: right;\n",
       "    }\n",
       "</style>\n",
       "<table border=\"1\" class=\"dataframe\">\n",
       "  <thead>\n",
       "    <tr style=\"text-align: right;\">\n",
       "      <th></th>\n",
       "      <th>customer_Id</th>\n",
       "      <th>first_name</th>\n",
       "      <th>last_name</th>\n",
       "      <th>country</th>\n",
       "      <th>email</th>\n",
       "    </tr>\n",
       "  </thead>\n",
       "  <tbody>\n",
       "    <tr>\n",
       "      <th>0</th>\n",
       "      <td>101</td>\n",
       "      <td>Sheryl</td>\n",
       "      <td>Baxter</td>\n",
       "      <td>Chile</td>\n",
       "      <td>zunigavanessa@smith.info</td>\n",
       "    </tr>\n",
       "    <tr>\n",
       "      <th>1</th>\n",
       "      <td>102</td>\n",
       "      <td>Preston</td>\n",
       "      <td>Lozano</td>\n",
       "      <td>Djibouti</td>\n",
       "      <td>vmata@colon.com</td>\n",
       "    </tr>\n",
       "    <tr>\n",
       "      <th>2</th>\n",
       "      <td>103</td>\n",
       "      <td>Roy</td>\n",
       "      <td>Berry</td>\n",
       "      <td>Antigua and Barbuda</td>\n",
       "      <td>beckycarr@hogan.com</td>\n",
       "    </tr>\n",
       "    <tr>\n",
       "      <th>3</th>\n",
       "      <td>104</td>\n",
       "      <td>Linda</td>\n",
       "      <td>Olsen</td>\n",
       "      <td>Dominican Republic</td>\n",
       "      <td>stanleyblackwell@benson.org</td>\n",
       "    </tr>\n",
       "    <tr>\n",
       "      <th>4</th>\n",
       "      <td>105</td>\n",
       "      <td>Joanna</td>\n",
       "      <td>Bender</td>\n",
       "      <td>Slovakia (Slovak Republic)</td>\n",
       "      <td>colinalvarado@miles.net</td>\n",
       "    </tr>\n",
       "  </tbody>\n",
       "</table>\n",
       "</div>"
      ],
      "text/plain": [
       "   customer_Id first_name last_name                     country  \\\n",
       "0          101     Sheryl    Baxter                       Chile   \n",
       "1          102    Preston    Lozano                    Djibouti   \n",
       "2          103        Roy     Berry         Antigua and Barbuda   \n",
       "3          104      Linda     Olsen          Dominican Republic   \n",
       "4          105     Joanna    Bender  Slovakia (Slovak Republic)   \n",
       "\n",
       "                         email  \n",
       "0     zunigavanessa@smith.info  \n",
       "1              vmata@colon.com  \n",
       "2          beckycarr@hogan.com  \n",
       "3  stanleyblackwell@benson.org  \n",
       "4      colinalvarado@miles.net  "
      ]
     },
     "execution_count": 4,
     "metadata": {},
     "output_type": "execute_result"
    }
   ],
   "source": [
    "data = pd.read_csv('customer1.csv')\n",
    "data.head()"
   ]
  },
  {
   "cell_type": "markdown",
   "id": "2f451135",
   "metadata": {},
   "source": [
    "__*Transform :*__"
   ]
  },
  {
   "cell_type": "code",
   "execution_count": 5,
   "id": "f3d33577",
   "metadata": {},
   "outputs": [
    {
     "name": "stdout",
     "output_type": "stream",
     "text": [
      "Data transformed successfully.\n"
     ]
    }
   ],
   "source": [
    "data.fillna('',inplace=True)\n",
    "data.drop_duplicates(inplace=True)\n",
    "\n",
    "data = data[data['email'].str.contains('@',na=False)]\n",
    "\n",
    "print(\"Data transformed successfully.\")"
   ]
  },
  {
   "cell_type": "code",
   "execution_count": 6,
   "id": "be3e83c7",
   "metadata": {},
   "outputs": [],
   "source": [
    "cols = \",\".join([str(i) for i in data.columns.tolist()])"
   ]
  },
  {
   "cell_type": "markdown",
   "id": "fa88208c",
   "metadata": {},
   "source": [
    "__*Load :*__"
   ]
  },
  {
   "cell_type": "code",
   "execution_count": 7,
   "id": "946a0794",
   "metadata": {},
   "outputs": [],
   "source": [
    "for i,row in data.iterrows():\n",
    "    sql = f\"\"\" INSERT INTO customercleaned({cols})\n",
    "        VALUES (%s, %s, %s, %s, %s)\n",
    "        ON DUPLICATE KEY UPDATE\n",
    "        first_name = VALUES(first_name),\n",
    "        last_name = VALUES(last_name),\n",
    "        country = VALUES(country),\n",
    "        email = VALUES(email)\"\"\"\n",
    "    cursor.execute(sql,(row['customer_Id'],row['first_name'],row['last_name'],row['country'],row['email']))\n"
   ]
  },
  {
   "cell_type": "code",
   "execution_count": 8,
   "id": "bd7f6660",
   "metadata": {},
   "outputs": [],
   "source": [
    "conn.commit()\n"
   ]
  },
  {
   "cell_type": "code",
   "execution_count": 9,
   "id": "d553dbef",
   "metadata": {},
   "outputs": [
    {
     "data": {
      "text/plain": [
       "True"
      ]
     },
     "execution_count": 9,
     "metadata": {},
     "output_type": "execute_result"
    }
   ],
   "source": [
    "cursor.close()"
   ]
  },
  {
   "cell_type": "code",
   "execution_count": 10,
   "id": "7e36d761",
   "metadata": {},
   "outputs": [],
   "source": [
    "conn.close()"
   ]
  },
  {
   "cell_type": "code",
   "execution_count": 11,
   "id": "bc916b5c",
   "metadata": {},
   "outputs": [
    {
     "name": "stdout",
     "output_type": "stream",
     "text": [
      "Data successfully stored in the 'customercleaned' table.\n"
     ]
    }
   ],
   "source": [
    "print(\"Data successfully stored in the 'customercleaned' table.\")"
   ]
  },
  {
   "cell_type": "markdown",
   "id": "92495525",
   "metadata": {},
   "source": [
    "__*Output File & Visualisation :*__"
   ]
  },
  {
   "cell_type": "code",
   "execution_count": 12,
   "id": "3b54b100",
   "metadata": {},
   "outputs": [],
   "source": [
    "output_file = 'transformed_customer.csv'\n",
    "data.to_csv(output_file, index=False)"
   ]
  },
  {
   "cell_type": "code",
   "execution_count": 13,
   "id": "2c8343ea",
   "metadata": {},
   "outputs": [
    {
     "name": "stdout",
     "output_type": "stream",
     "text": [
      "Data loaded into CSV file : transformed_customer.csv\n"
     ]
    }
   ],
   "source": [
    "print(f\"Data loaded into CSV file : {output_file}\")\n",
    "transformed_data = pd.read_csv(output_file)"
   ]
  },
  {
   "cell_type": "code",
   "execution_count": 14,
   "id": "d9b00684",
   "metadata": {},
   "outputs": [
    {
     "name": "stdout",
     "output_type": "stream",
     "text": [
      "   customer_Id first_name last_name                     country  \\\n",
      "0          101     Sheryl    Baxter                       Chile   \n",
      "1          102    Preston    Lozano                    Djibouti   \n",
      "2          103        Roy     Berry         Antigua and Barbuda   \n",
      "3          104      Linda     Olsen          Dominican Republic   \n",
      "4          105     Joanna    Bender  Slovakia (Slovak Republic)   \n",
      "\n",
      "                         email  \n",
      "0     zunigavanessa@smith.info  \n",
      "1              vmata@colon.com  \n",
      "2          beckycarr@hogan.com  \n",
      "3  stanleyblackwell@benson.org  \n",
      "4      colinalvarado@miles.net  \n"
     ]
    }
   ],
   "source": [
    "# Display the first few rows (by default, it shows 5 rows)\n",
    "print(transformed_data.head())"
   ]
  },
  {
   "cell_type": "code",
   "execution_count": 15,
   "id": "4eca58f0",
   "metadata": {},
   "outputs": [],
   "source": [
    "import matplotlib.pyplot as plt\n",
    "import seaborn as sns"
   ]
  },
  {
   "cell_type": "code",
   "execution_count": 16,
   "id": "c90d6fbd",
   "metadata": {},
   "outputs": [
    {
     "data": {
      "image/png": "[encoded data removed]",
      "text/plain": [
       "<Figure size 1000x600 with 1 Axes>"
      ]
     },
     "metadata": {},
     "output_type": "display_data"
    }
   ],
   "source": [
    "plt.figure(figsize=(10,6))\n",
    "sns.countplot(x='country', data=data, palette='viridis')\n",
    "plt.title(\"Number of Customers per Country\")\n",
    "plt.xlabel('Country')\n",
    "plt.ylabel('Count of Customers')\n",
    "plt.xticks(rotation=45)\n",
    "plt.show()"
   ]
  }
 ],
 "metadata": {
  "kernelspec": {
   "display_name": "base",
   "language": "python",
   "name": "python3"
  },
  "language_info": {
   "codemirror_mode": {
    "name": "ipython",
    "version": 3
   },
   "file_extension": ".py",
   "mimetype": "text/x-python",
   "name": "python",
   "nbconvert_exporter": "python",
   "pygments_lexer": "ipython3",
   "version": "3.11.4"
  }
 },
 "nbformat": 4,
 "nbformat_minor": 5
}
